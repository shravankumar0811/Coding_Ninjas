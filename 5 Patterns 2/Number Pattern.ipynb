{
 "cells": [
  {
   "cell_type": "code",
   "execution_count": 2,
   "metadata": {},
   "outputs": [
    {
     "name": "stdout",
     "output_type": "stream",
     "text": [
      "5\n",
      "1        1\n",
      "12      21\n",
      "123    321\n",
      "1234  4321\n",
      "1234554321\n"
     ]
    }
   ],
   "source": [
    "a=int(input())\n",
    "\n",
    "for k in range(1,a+1):\n",
    "    b='1'\n",
    "    for i in range(2,a+1):\n",
    "        c=str(i)\n",
    "        if k >= i:\n",
    "            b=b+c\n",
    "        else:\n",
    "            b=b+' '\n",
    "    for j in range(a,0,-1):\n",
    "        d=str(j)\n",
    "        if k >= j:\n",
    "            b=b+d\n",
    "        else:\n",
    "            b=b+' '\n",
    "    print(b)"
   ]
  }
 ],
 "metadata": {
  "kernelspec": {
   "display_name": "Python 3",
   "language": "python",
   "name": "python3"
  },
  "language_info": {
   "codemirror_mode": {
    "name": "ipython",
    "version": 3
   },
   "file_extension": ".py",
   "mimetype": "text/x-python",
   "name": "python",
   "nbconvert_exporter": "python",
   "pygments_lexer": "ipython3",
   "version": "3.7.6"
  }
 },
 "nbformat": 4,
 "nbformat_minor": 4
}
