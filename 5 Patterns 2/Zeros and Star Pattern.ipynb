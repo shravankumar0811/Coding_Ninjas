{
 "cells": [
  {
   "cell_type": "code",
   "execution_count": 1,
   "metadata": {},
   "outputs": [
    {
     "name": "stdout",
     "output_type": "stream",
     "text": [
      "5\n",
      "*0000*0000*\n",
      "0*000*000*0\n",
      "00*00*00*00\n",
      "000*0*0*000\n",
      "0000***0000\n"
     ]
    }
   ],
   "source": [
    "lines=int(input()) \n",
    "i=1  \n",
    "j=1  \n",
    "while i<=lines:  \n",
    "    j=1  \n",
    "    while j<=lines:      \n",
    "        if i==j:  \n",
    "            print(\"*\", end='', flush=True)  \n",
    "        else :  \n",
    "            print(\"0\", end='', flush=True)  \n",
    "        j=j+1  \n",
    "    j=j-1;  \n",
    "    print(\"*\", end='', flush=True)  \n",
    "    while j>=1:    \n",
    "        if i==j:  \n",
    "            print(\"*\", end='', flush=True)  \n",
    "        else :  \n",
    "            print(\"0\", end='', flush=True)  \n",
    "        j=j-1  \n",
    "    print(\"\");  \n",
    "    i=i+1  "
   ]
  }
 ],
 "metadata": {
  "kernelspec": {
   "display_name": "Python 3",
   "language": "python",
   "name": "python3"
  },
  "language_info": {
   "codemirror_mode": {
    "name": "ipython",
    "version": 3
   },
   "file_extension": ".py",
   "mimetype": "text/x-python",
   "name": "python",
   "nbconvert_exporter": "python",
   "pygments_lexer": "ipython3",
   "version": "3.7.6"
  }
 },
 "nbformat": 4,
 "nbformat_minor": 4
}
