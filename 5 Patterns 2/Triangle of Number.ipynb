{
 "cells": [
  {
   "cell_type": "code",
   "execution_count": 1,
   "metadata": {},
   "outputs": [
    {
     "name": "stdout",
     "output_type": "stream",
     "text": [
      "5\n",
      "    1\n",
      "   232\n",
      "  34543\n",
      " 4567654\n",
      "567898765\n"
     ]
    }
   ],
   "source": [
    "\n",
    "n = int(input())\n",
    "currRow = 1\n",
    "while currRow <= n:\n",
    "    spaces = 1\n",
    "    while spaces <= (n - currRow) :\n",
    "        print(\" \", end = \"\")\n",
    "        spaces += 1\n",
    "    currCol = 1\n",
    "    valToPrint = currRow\n",
    "    while currCol <= currRow :\n",
    "        print(valToPrint, end = \"\")\n",
    "        valToPrint += 1\n",
    "        currCol += 1\n",
    "    currCol = 1\n",
    "    valToPrint = 2 * currRow - 2 \n",
    "    while currCol <= currRow - 1 :\n",
    "        print(valToPrint, end = \"\")\n",
    "        valToPrint -= 1\n",
    "        currCol += 1 \n",
    "    print()\n",
    "    currRow += 1\n"
   ]
  }
 ],
 "metadata": {
  "kernelspec": {
   "display_name": "Python 3",
   "language": "python",
   "name": "python3"
  },
  "language_info": {
   "codemirror_mode": {
    "name": "ipython",
    "version": 3
   },
   "file_extension": ".py",
   "mimetype": "text/x-python",
   "name": "python",
   "nbconvert_exporter": "python",
   "pygments_lexer": "ipython3",
   "version": "3.7.6"
  }
 },
 "nbformat": 4,
 "nbformat_minor": 4
}
