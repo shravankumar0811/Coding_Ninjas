{
 "cells": [
  {
   "cell_type": "code",
   "execution_count": 1,
   "metadata": {},
   "outputs": [
    {
     "name": "stdout",
     "output_type": "stream",
     "text": [
      "5\n",
      "  *\n",
      " ***\n",
      "*****\n",
      " ***\n",
      "  *\n"
     ]
    }
   ],
   "source": [
    "n = int(input())\n",
    "firstHalf = (n + 1) // 2\n",
    "secondHalf = n // 2\n",
    "#First Half\n",
    "currRow = 1 \n",
    "while currRow <= firstHalf:\n",
    "    spaces = 1 \n",
    "    while spaces <= (firstHalf - currRow) :\n",
    "        print(\" \", end = \"\")\n",
    "        spaces += 1\n",
    "    currCol = 1\n",
    "    while currCol <= (2 * currRow) - 1 :\n",
    "        print(\"*\", end = \"\")\n",
    "        currCol += 1\n",
    "        \n",
    "    print()\n",
    "    currRow += 1\n",
    "#Second Half \n",
    "currRow = secondHalf \n",
    "while currRow >= 1 :\n",
    "    spaces = 1\n",
    "    while spaces <= (secondHalf - currRow + 1) :\n",
    "        print(\" \", end = \"\") \n",
    "        spaces += 1\n",
    "    currCol = 1 \n",
    "    while currCol <= (2 * currRow) - 1 :\n",
    "        print(\"*\", end = \"\") \n",
    "        currCol += 1\n",
    "    \n",
    "    print()\n",
    "    currRow -= 1"
   ]
  }
 ],
 "metadata": {
  "kernelspec": {
   "display_name": "Python 3",
   "language": "python",
   "name": "python3"
  },
  "language_info": {
   "codemirror_mode": {
    "name": "ipython",
    "version": 3
   },
   "file_extension": ".py",
   "mimetype": "text/x-python",
   "name": "python",
   "nbconvert_exporter": "python",
   "pygments_lexer": "ipython3",
   "version": "3.7.6"
  }
 },
 "nbformat": 4,
 "nbformat_minor": 4
}
