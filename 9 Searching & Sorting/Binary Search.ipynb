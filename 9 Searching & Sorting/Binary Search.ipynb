{
 "cells": [
  {
   "cell_type": "code",
   "execution_count": 1,
   "metadata": {},
   "outputs": [
    {
     "name": "stdout",
     "output_type": "stream",
     "text": [
      "7\n",
      "1 3 7 9 11 12 45\n",
      "1\n",
      "3\n",
      "1\n"
     ]
    }
   ],
   "source": [
    "from sys import stdin\n",
    "def binarySearch(arr, n, x) : \n",
    "    start = 0;\n",
    "    end = n - 1 \n",
    "    mid = start\n",
    "    while start <= end :\n",
    "        mid = start + (end - start) // 2\n",
    "        if arr[mid] > x :\n",
    "            end = mid - 1\n",
    "        elif arr[mid] < x :\n",
    "            start = mid + 1 \n",
    "        else : \n",
    "            return mid \n",
    "    return -1\n",
    "def takeInput() :\n",
    "    n = int(input())\n",
    "    if n == 0 :\n",
    "        return list(), 0\n",
    "    arr = list(map(int, input().strip().split(\" \"))) \n",
    "    return arr, n\n",
    "arr, n = takeInput()\n",
    "t = int(input()) \n",
    "while t > 0 : \n",
    "    x = int(input().strip()) \n",
    "    print(binarySearch(arr, n, x)) \n",
    "    t -= 1"
   ]
  }
 ],
 "metadata": {
  "kernelspec": {
   "display_name": "Python 3",
   "language": "python",
   "name": "python3"
  },
  "language_info": {
   "codemirror_mode": {
    "name": "ipython",
    "version": 3
   },
   "file_extension": ".py",
   "mimetype": "text/x-python",
   "name": "python",
   "nbconvert_exporter": "python",
   "pygments_lexer": "ipython3",
   "version": "3.7.6"
  }
 },
 "nbformat": 4,
 "nbformat_minor": 4
}
