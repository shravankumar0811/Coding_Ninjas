{
 "cells": [
  {
   "cell_type": "code",
   "execution_count": 3,
   "metadata": {},
   "outputs": [
    {
     "name": "stdout",
     "output_type": "stream",
     "text": [
      "1\n",
      "7\n",
      "1 2 3 4 5 6 7\n",
      "2\n",
      "3 4 5 6 7 1 2 \n"
     ]
    }
   ],
   "source": [
    "from sys import stdin \n",
    "def swapElements(arr, start, end) :\n",
    "    arr[start], arr[end] = arr[end], arr[start] \n",
    "    \n",
    "def reverse(arr, start, end): \n",
    "    while(start < end):\n",
    "        swapElements(arr, start, end)\n",
    "        start += 1\n",
    "        end -= 1 \n",
    "def rotate(arr, n, d): \n",
    "    if n == 0 :\n",
    "        return\n",
    "    if d >= n and n != 0 :\n",
    "        d = d % n\n",
    "    reverse(arr, 0, n - 1) \n",
    "    reverse(arr, 0, n - d - 1) \n",
    "    reverse(arr, n - d, n - 1) \n",
    "def takeInput() :\n",
    "    n = int(input())\n",
    "    if n == 0:\n",
    "        return list(), 0 \n",
    "    arr = list(map(int, input().rstrip().split(\" \")))\n",
    "    return arr, n \n",
    "def printList(arr, n) :\n",
    "    for i in range(n) : \n",
    "        print(arr[i], end = \" \")\n",
    "    print()\n",
    "\n",
    "t = int(input())\n",
    "while t > 0 :\n",
    "    arr, n = takeInput()\n",
    "    d = int(input()) \n",
    "    rotate(arr, n, d)\n",
    "    printList(arr, n)\n",
    "    \n",
    "    t -= 1"
   ]
  }
 ],
 "metadata": {
  "kernelspec": {
   "display_name": "Python 3",
   "language": "python",
   "name": "python3"
  },
  "language_info": {
   "codemirror_mode": {
    "name": "ipython",
    "version": 3
   },
   "file_extension": ".py",
   "mimetype": "text/x-python",
   "name": "python",
   "nbconvert_exporter": "python",
   "pygments_lexer": "ipython3",
   "version": "3.7.6"
  }
 },
 "nbformat": 4,
 "nbformat_minor": 4
}
