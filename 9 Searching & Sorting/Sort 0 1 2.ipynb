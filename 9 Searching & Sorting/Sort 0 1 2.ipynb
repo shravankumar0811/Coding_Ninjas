{
 "cells": [
  {
   "cell_type": "markdown",
   "metadata": {},
   "source": [
    "Sort 0 1 2\n",
    "\n",
    "You are given an integer array/list(ARR) of size N. It contains only 0s, 1s and 2s. Write a solution to sort this array/list in a 'single scan'.\n",
    "'Single Scan' refers to iterating over the array/list just once or to put it in other words, you will be visiting each element in the array/list just once.\n",
    "Note:\n",
    "You need to change in the given array/list itself. Hence, no need to return or print anything. \n",
    "Input format :\n",
    "The first line contains an Integer 't' which denotes the number of test cases or queries to be run. Then the test cases follow.\n",
    "\n",
    "First line of each test case or query contains an integer 'N' representing the size of the array/list.\n",
    "\n",
    "Second line contains 'N' single space separated integers(all 0s, 1s and 2s) representing the elements in the array/list.\n",
    "Output Format :\n",
    "For each test case, print the sorted array/list elements in a row separated by a single space.\n",
    "\n",
    "Output for every test case will be printed in a separate line.\n",
    "Constraints :\n",
    "1 <= t <= 10^2\n",
    "0 <= N <= 10^5\n",
    "Time Limit: 1 sec\n",
    "Sample Input 1:\n",
    "1\n",
    "7\n",
    "0 1 2 0 2 0 1"
   ]
  },
  {
   "cell_type": "code",
   "execution_count": 1,
   "metadata": {},
   "outputs": [
    {
     "name": "stdout",
     "output_type": "stream",
     "text": [
      "1\n",
      "7\n",
      "0 1 2 0 2 0 1\n",
      "0 0 0 1 1 2 2 \n"
     ]
    }
   ],
   "source": [
    "from sys import stdin\n",
    "def sort012(arr, n) :\n",
    "    nextZero = 0\n",
    "    nextTwo = (n - 1) \n",
    "    i = 0 \n",
    "    while i <= nextTwo :\n",
    "        if arr[i] == 0 :\n",
    "            temp = arr[nextZero]\n",
    "            arr[nextZero] = arr[i] \n",
    "            arr[i] = temp\n",
    "            i += 1\n",
    "            nextZero += 1\n",
    "        elif arr[i] == 2 :\n",
    "            temp = arr[nextTwo] \n",
    "            arr[nextTwo] = arr[i] \n",
    "            arr[i] = temp\n",
    "            nextTwo -= 1\n",
    "        else : \n",
    "            i += 1 \n",
    "def takeInput() : \n",
    "    n = int(input().rstrip())\n",
    "    if n == 0 :\n",
    "        return list(), 0 \n",
    "    arr = list(map(int, input().rstrip().split(\" \")))\n",
    "    return arr, n\n",
    "def printList(arr, n) : \n",
    "    for i in range(n) :\n",
    "        print(arr[i], end = \" \")\n",
    "    print() \n",
    "t = int(input())\n",
    "while t > 0 :\n",
    "    arr, n = takeInput() \n",
    "    sort012(arr, n)\n",
    "    printList(arr, n) \n",
    "    t -= 1"
   ]
  }
 ],
 "metadata": {
  "kernelspec": {
   "display_name": "Python 3",
   "language": "python",
   "name": "python3"
  },
  "language_info": {
   "codemirror_mode": {
    "name": "ipython",
    "version": 3
   },
   "file_extension": ".py",
   "mimetype": "text/x-python",
   "name": "python",
   "nbconvert_exporter": "python",
   "pygments_lexer": "ipython3",
   "version": "3.7.6"
  }
 },
 "nbformat": 4,
 "nbformat_minor": 4
}
