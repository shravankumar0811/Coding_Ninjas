{
 "cells": [
  {
   "cell_type": "code",
   "execution_count": 1,
   "metadata": {},
   "outputs": [
    {
     "name": "stdout",
     "output_type": "stream",
     "text": [
      "1\n",
      "7\n",
      "5 8 2 5 1 9 6\n",
      "1 2 5 5 6 8 9 \n"
     ]
    }
   ],
   "source": [
    "from sys import stdin\n",
    "def bubbleSort(arr, n) :\n",
    "    for i in range(n - 1) :\n",
    "        for j in range(n - i - 1) :\n",
    "            if arr[j] > arr[j+1] :\n",
    "                temp = arr[j] \n",
    "                arr[j] = arr[j + 1]\n",
    "                arr[j + 1] = temp \n",
    "def takeInput() : \n",
    "    n = int(input().strip()) \n",
    "    if n == 0 : \n",
    "        return list(), 0\n",
    "    arr = list(map(int, input().strip().split(\" \"))) \n",
    "    return arr, n\n",
    "def printList(arr, n) :\n",
    "    for i in range(n) :\n",
    "        print(arr[i], end = \" \") \n",
    "    print() \n",
    "t = int(input().strip()) \n",
    "while t > 0 :\n",
    "    arr, n = takeInput()\n",
    "    bubbleSort(arr, n)\n",
    "    printList(arr, n) \n",
    "    t-= 1"
   ]
  }
 ],
 "metadata": {
  "kernelspec": {
   "display_name": "Python 3",
   "language": "python",
   "name": "python3"
  },
  "language_info": {
   "codemirror_mode": {
    "name": "ipython",
    "version": 3
   },
   "file_extension": ".py",
   "mimetype": "text/x-python",
   "name": "python",
   "nbconvert_exporter": "python",
   "pygments_lexer": "ipython3",
   "version": "3.7.6"
  }
 },
 "nbformat": 4,
 "nbformat_minor": 4
}
