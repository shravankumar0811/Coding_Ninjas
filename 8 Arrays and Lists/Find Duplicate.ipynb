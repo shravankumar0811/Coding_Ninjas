{
 "cells": [
  {
   "cell_type": "code",
   "execution_count": 4,
   "metadata": {},
   "outputs": [
    {
     "name": "stdout",
     "output_type": "stream",
     "text": [
      "1\n",
      "9\n",
      "0 7 2 5 4 7 1 3 6\n",
      "7\n"
     ]
    }
   ],
   "source": [
    "import sys\n",
    "def duplicateNumber(arr, size) :\n",
    "    for i in range(size - 1) :\n",
    "        for j in range((i + 1), size) :\n",
    "            if arr[i] == arr[j] :\n",
    "                return arr[i] \n",
    "def takeInput() :\n",
    "    n = int(input()) \n",
    "    if n == 0 :\n",
    "        return list(), 0\n",
    "    arr = list(map(int, input().strip().split())) \n",
    "    return arr, n\n",
    "t = int(input()) \n",
    "while t > 0 :\n",
    "    arr, n = takeInput()\n",
    "    print(duplicateNumber(arr, n))\n",
    "    \n",
    "    t -= 1"
   ]
  }
 ],
 "metadata": {
  "kernelspec": {
   "display_name": "Python 3",
   "language": "python",
   "name": "python3"
  },
  "language_info": {
   "codemirror_mode": {
    "name": "ipython",
    "version": 3
   },
   "file_extension": ".py",
   "mimetype": "text/x-python",
   "name": "python",
   "nbconvert_exporter": "python",
   "pygments_lexer": "ipython3",
   "version": "3.7.6"
  }
 },
 "nbformat": 4,
 "nbformat_minor": 4
}
