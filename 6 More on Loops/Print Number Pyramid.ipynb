{
 "cells": [
  {
   "cell_type": "code",
   "execution_count": 3,
   "metadata": {},
   "outputs": [
    {
     "name": "stdout",
     "output_type": "stream",
     "text": [
      "5\n",
      "12345\n",
      " 2345\n",
      "  345\n",
      "   45\n",
      "    5\n",
      "   45\n",
      "  345\n",
      " 2345\n",
      "12345\n"
     ]
    }
   ],
   "source": [
    "n = int(input())\n",
    "for i in range(1,n+1):\n",
    "    count = 1\n",
    "    for j in range(1,i):\n",
    "        print(\" \",end=\"\")\n",
    "        count = count + 1\n",
    "    num = i \n",
    "    for j in range(count,n+1):\n",
    "        print(num,end=\"\") \n",
    "        num = num + 1\n",
    "    print()\n",
    "for i in range(n-1,0,-1):\n",
    "    count = 1\n",
    "    for j in range(1,i):\n",
    "        print(\" \",end=\"\") \n",
    "        count = count + 1\n",
    "    num = i \n",
    "    for j in range(count,n+1): \n",
    "        print(num,end=\"\")\n",
    "        num = num + 1 \n",
    "    print()"
   ]
  }
 ],
 "metadata": {
  "kernelspec": {
   "display_name": "Python 3",
   "language": "python",
   "name": "python3"
  },
  "language_info": {
   "codemirror_mode": {
    "name": "ipython",
    "version": 3
   },
   "file_extension": ".py",
   "mimetype": "text/x-python",
   "name": "python",
   "nbconvert_exporter": "python",
   "pygments_lexer": "ipython3",
   "version": "3.7.6"
  }
 },
 "nbformat": 4,
 "nbformat_minor": 4
}
