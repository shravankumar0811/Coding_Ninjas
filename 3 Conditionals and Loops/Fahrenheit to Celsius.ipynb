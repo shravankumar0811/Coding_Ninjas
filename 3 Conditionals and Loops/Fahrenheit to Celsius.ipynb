{
 "cells": [
  {
   "cell_type": "code",
   "execution_count": null,
   "metadata": {},
   "outputs": [],
   "source": [
    "start = int(input())\n",
    "end = int(input())\n",
    "step = int(input())\n",
    "\n",
    "curr_temp = start\n",
    "\n",
    "while curr_temp <= end:\n",
    "    c = 5/9 * (curr_temp-32)\n",
    "    print(curr_temp, \" \", int(c))\n",
    "    curr_temp = curr_temp+step"
   ]
  }
 ],
 "metadata": {
  "kernelspec": {
   "display_name": "Python 3",
   "language": "python",
   "name": "python3"
  },
  "language_info": {
   "codemirror_mode": {
    "name": "ipython",
    "version": 3
   },
   "file_extension": ".py",
   "mimetype": "text/x-python",
   "name": "python",
   "nbconvert_exporter": "python",
   "pygments_lexer": "ipython3",
   "version": "3.7.6"
  }
 },
 "nbformat": 4,
 "nbformat_minor": 4
}
