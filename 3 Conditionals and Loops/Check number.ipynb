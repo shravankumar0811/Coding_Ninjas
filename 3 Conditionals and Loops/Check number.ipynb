{
 "cells": [
  {
   "cell_type": "markdown",
   "metadata": {},
   "source": [
    "Given an integer n, find if n is positive, negative or 0.\n",
    "\n",
    "If n is positive, print \"Positive\"\n",
    "If n is negative, print \"Negative\"\n",
    "And if n is equal to 0, print \"Zero\".\n",
    "\n",
    "Input Format :\n",
    "\n",
    "Integer n\n",
    "\n",
    "Output Format :\n",
    "\n",
    "\"Positive\" or \"Negative\" or \"Zero\" (without double quotes)\n",
    "\n",
    "Constraints :\n",
    "\n",
    "1 <= n <= 100\n",
    "\n",
    "Sample Input 1 :\n",
    "\n",
    "10\n",
    "\n",
    "Sample Output 1 :\n",
    "\n",
    "Positive\n",
    "\n",
    "Sample Input 2 :\n",
    "\n",
    "-10\n",
    "\n",
    "Sample Output 2 :\n",
    "\n",
    "Negative\n"
   ]
  },
  {
   "cell_type": "code",
   "execution_count": null,
   "metadata": {},
   "outputs": [],
   "source": [
    "n=int(input())\n",
    "if n>0:\n",
    "    print(\"Positive\")\n",
    "elif n<0"
   ]
  }
 ],
 "metadata": {
  "kernelspec": {
   "display_name": "Python 3",
   "language": "python",
   "name": "python3"
  },
  "language_info": {
   "codemirror_mode": {
    "name": "ipython",
    "version": 3
   },
   "file_extension": ".py",
   "mimetype": "text/x-python",
   "name": "python",
   "nbconvert_exporter": "python",
   "pygments_lexer": "ipython3",
   "version": "3.7.6"
  }
 },
 "nbformat": 4,
 "nbformat_minor": 4
}
