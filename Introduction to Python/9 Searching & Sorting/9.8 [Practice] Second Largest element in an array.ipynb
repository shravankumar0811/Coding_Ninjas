{
 "cells": [
  {
   "cell_type": "code",
   "execution_count": 2,
   "metadata": {},
   "outputs": [
    {
     "name": "stdout",
     "output_type": "stream",
     "text": [
      "7\n",
      "2 5 6 8 14 0 5\n",
      "8\n"
     ]
    }
   ],
   "source": [
    "\n",
    "n = int(input())\n",
    "arr = [int(x) for x in input().split()[:n]]\n",
    "arr.sort()\n",
    "count = 0\n",
    "max1 = 0\n",
    "max2 = 0\n",
    "for i in range(0, len(arr)-1):\n",
    "  if arr[i] == arr[i+1]:\n",
    "    count = count + 1\n",
    "  elif arr[i] > max1:\n",
    "    max2 = max2\n",
    "    max1 = arr[i]\n",
    "  \n",
    "\n",
    "if (count == n) or (n <= 1):\n",
    "  print(-2147483648)\n",
    "else:\n",
    "  print(max1)\n"
   ]
  },
  {
   "cell_type": "code",
   "execution_count": null,
   "metadata": {},
   "outputs": [],
   "source": [
    "7\n",
    "2 13 4 1 3 6 28\n"
   ]
  }
 ],
 "metadata": {
  "kernelspec": {
   "display_name": "Python 3",
   "language": "python",
   "name": "python3"
  },
  "language_info": {
   "codemirror_mode": {
    "name": "ipython",
    "version": 3
   },
   "file_extension": ".py",
   "mimetype": "text/x-python",
   "name": "python",
   "nbconvert_exporter": "python",
   "pygments_lexer": "ipython3",
   "version": "3.7.3"
  }
 },
 "nbformat": 4,
 "nbformat_minor": 2
}
