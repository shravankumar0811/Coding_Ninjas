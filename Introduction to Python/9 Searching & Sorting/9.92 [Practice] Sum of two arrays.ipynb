{
 "cells": [
  {
   "cell_type": "code",
   "execution_count": 1,
   "metadata": {},
   "outputs": [
    {
     "name": "stdout",
     "output_type": "stream",
     "text": [
      "4\n",
      "2 5 6 9\n",
      "3\n",
      "9 9 9\n",
      "0 3 5 6 8 "
     ]
    }
   ],
   "source": [
    "def sumOfArrays(ar1, ar2, n, m):\n",
    "   bFlag = False\n",
    "   res = []\n",
    "   if n > m:\n",
    "       app = n - m\n",
    "       for i in range(app):\n",
    "           ar2.insert(i, 0)\n",
    "           \n",
    "   else:\n",
    "       app = m - n\n",
    "       for i in range(app):\n",
    "           ar1.insert(i, 0)\n",
    "           \n",
    "   size = len(ar1)\n",
    "   \n",
    "   for i in range(size -1, -1, -1):\n",
    "       sum = ar1[i] + ar2[i]\n",
    "       \n",
    "       if bFlag:\n",
    "           sum +=1\n",
    "           \n",
    "       if sum >= 10:\n",
    "           bFlag = True\n",
    "           cur_ele = sum % 10\n",
    "           res.append(cur_ele)\n",
    "           \n",
    "       else:\n",
    "           res.append(sum)\n",
    "           bFlag = False\n",
    "           \n",
    "   else:\n",
    "       if bFlag:\n",
    "           res.append(1)\n",
    "   \n",
    "   if len(res) != size + 1:\n",
    "       res.append(0)\n",
    "   for ele in res[::-1]:\n",
    "       print(ele, end =' ')\n",
    "           \n",
    "   \n",
    "n = int(input())\n",
    "ar1 = [int(x) for x in input().split()[:n]]\n",
    "\n",
    "m = int(input())\n",
    "ar2 = [int(x) for x in input().split()[:m]]\n",
    "\n",
    "sumOfArrays(ar1, ar2, n, m)"
   ]
  },
  {
   "cell_type": "code",
   "execution_count": null,
   "metadata": {},
   "outputs": [],
   "source": []
  }
 ],
 "metadata": {
  "kernelspec": {
   "display_name": "Python 3",
   "language": "python",
   "name": "python3"
  },
  "language_info": {
   "codemirror_mode": {
    "name": "ipython",
    "version": 3
   },
   "file_extension": ".py",
   "mimetype": "text/x-python",
   "name": "python",
   "nbconvert_exporter": "python",
   "pygments_lexer": "ipython3",
   "version": "3.7.3"
  }
 },
 "nbformat": 4,
 "nbformat_minor": 2
}
