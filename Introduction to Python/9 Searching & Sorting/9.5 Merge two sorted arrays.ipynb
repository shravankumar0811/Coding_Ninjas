{
 "cells": [
  {
   "cell_type": "markdown",
   "metadata": {},
   "source": [
    "### Merge two sorted arrays"
   ]
  },
  {
   "cell_type": "code",
   "execution_count": 1,
   "metadata": {},
   "outputs": [
    {
     "name": "stdout",
     "output_type": "stream",
     "text": [
      "5\n",
      "2 3 54 85 96\n",
      "6\n",
      "1 4 8 52 320 855\n",
      "1 2 3 4 8 52 54 85 96 320 855 "
     ]
    }
   ],
   "source": [
    "m = int(input())\n",
    "arr1 = [int(x) for x in input().split() [:m]]\n",
    "n = int(input())\n",
    "arr2 = [int(x) for x in input().split() [:n]]\n",
    "\n",
    "arr3 = []\n",
    "i = 0\n",
    "j = 0\n",
    "while i < len(arr1) and j < len(arr2):\n",
    "    if arr1[i] <= arr2[j]:\n",
    "        arr3.append(arr1[i])\n",
    "        #print(\"i \", arr3)\n",
    "        i = i + 1\n",
    "    elif arr1[i] > arr2[j]:\n",
    "        arr3.append(arr2[j])\n",
    "        #print(\"j \",arr3)\n",
    "        j = j + 1\n",
    "        \n",
    "if i < len(arr1):\n",
    "    for l in arr1[i : len(arr1)]:\n",
    "        arr3.append(l)\n",
    "else:\n",
    "    for k in arr2[j :  len(arr2)]:\n",
    "        arr3.append(k)\n",
    "        \n",
    "for ele in arr3:\n",
    "    print(ele, end = ' ')\n"
   ]
  },
 ],
 "metadata": {
  "kernelspec": {
   "display_name": "Python 3",
   "language": "python",
   "name": "python3"
  },
  "language_info": {
   "codemirror_mode": {
    "name": "ipython",
    "version": 3
   },
   "file_extension": ".py",
   "mimetype": "text/x-python",
   "name": "python",
   "nbconvert_exporter": "python",
   "pygments_lexer": "ipython3",
   "version": "3.7.3"
  }
 },
 "nbformat": 4,
 "nbformat_minor": 2
}
