{
 "cells": [
  {
   "cell_type": "markdown",
   "metadata": {},
   "source": [
    "### Selection Sort"
   ]
  },
  {
   "cell_type": "code",
   "execution_count": 7,
   "metadata": {},
   "outputs": [
    {
     "name": "stdout",
     "output_type": "stream",
     "text": [
      "How many numbers ? 5\n",
      "12 54 32 0 4\n",
      "0 4 12 32 54 "
     ]
    }
   ],
   "source": [
    "n = int(input(\"How many numbers ? \"))\n",
    "arr = [int(x) for x in input().split()[:n]] \n",
    "\n",
    "for i in range(0, len(arr) - 1):\n",
    "    min = arr[i]\n",
    "    for j in range(i + 1, len(arr)):\n",
    "        if min > arr[j]:\n",
    "            min = arr[j]\n",
    "            arr[i], arr[j] = arr[j], arr[i]\n",
    "\n",
    "for ele in arr:\n",
    "    print(ele, end = ' ')\n",
    "        "
   ]
  },
  {
   "cell_type": "code",
   "execution_count": null,
   "metadata": {},
   "outputs": [],
   "source": []
  }
 ],
 "metadata": {
  "kernelspec": {
   "display_name": "Python 3",
   "language": "python",
   "name": "python3"
  },
  "language_info": {
   "codemirror_mode": {
    "name": "ipython",
    "version": 3
   },
   "file_extension": ".py",
   "mimetype": "text/x-python",
   "name": "python",
   "nbconvert_exporter": "python",
   "pygments_lexer": "ipython3",
   "version": "3.7.3"
  }
 },
 "nbformat": 4,
 "nbformat_minor": 2
}
