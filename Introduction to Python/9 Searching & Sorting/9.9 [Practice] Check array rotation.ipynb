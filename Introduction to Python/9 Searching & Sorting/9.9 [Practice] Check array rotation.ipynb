{
 "cells": [
  {
   "cell_type": "code",
   "execution_count": 1,
   "metadata": {},
   "outputs": [
    {
     "name": "stdout",
     "output_type": "stream",
     "text": [
      "6\n",
      "5 6 1 2 3 4\n",
      "2\n"
     ]
    }
   ],
   "source": [
    "def Rotate(arr, d = 1):\n",
    "    if len(arr) == 0:\n",
    "        return 1\n",
    "    d = -d % len(arr)\n",
    "    return arr[d:] + arr[:d]\n",
    "\n",
    "n=int(input())\n",
    "arr = list(int(i) for i in input().strip().split(' '))\n",
    "temp  = []\n",
    "for i in arr:\n",
    "    temp.append(i)\n",
    "    \n",
    "for d in range(0, len(arr)):\n",
    "    #temp = arr\n",
    "    temp.sort()\n",
    "    xyz = Rotate(temp, d)\n",
    "    #print(temp)\n",
    "    #print(arr)\n",
    "    flag = True\n",
    "    for i in range(0, len(xyz)):\n",
    "        if xyz[i] == arr[i]:\n",
    "            #flag = True\n",
    "            pass\n",
    "        else:\n",
    "            flag = False\n",
    "            break\n",
    "    if flag == True:\n",
    "        print(d)\n",
    "        break"
   ]
  },
  {
   "cell_type": "code",
   "execution_count": null,
   "metadata": {},
   "outputs": [],
   "source": []
  }
 ],
 "metadata": {
  "kernelspec": {
   "display_name": "Python 3",
   "language": "python",
   "name": "python3"
  },
  "language_info": {
   "codemirror_mode": {
    "name": "ipython",
    "version": 3
   },
   "file_extension": ".py",
   "mimetype": "text/x-python",
   "name": "python",
   "nbconvert_exporter": "python",
   "pygments_lexer": "ipython3",
   "version": "3.7.3"
  }
 },
 "nbformat": 4,
 "nbformat_minor": 2
}
