{
 "cells": [
  {
   "cell_type": "code",
   "execution_count": 1,
   "metadata": {},
   "outputs": [
    {
     "name": "stdout",
     "output_type": "stream",
     "text": [
      "1\n",
      "7\n",
      "2 0 0 3 0 0 1\n",
      "2 3 1 0 0 0 0 \n"
     ]
    }
   ],
   "source": [
    "from sys import stdin \n",
    "def pushZerosAtEnd(arr, n) :\n",
    "    nonZero = 0 \n",
    "    for i in range(n):\n",
    "        if arr[i] != 0 :\n",
    "            temp = arr[i] \n",
    "            arr[i] = arr[nonZero] \n",
    "            arr[nonZero] = temp \n",
    "            nonZero += 1 \n",
    "\n",
    "def takeInput() :\n",
    "    n = int(input())\n",
    "    if n == 0:\n",
    "        return list(), 0 \n",
    "    arr = list(map(int, input().rstrip().split())) \n",
    "    return arr, n\n",
    "def printList(arr, n) :\n",
    "    for i in range(n) : \n",
    "        print(arr[i], end = \" \") \n",
    "    print()\n",
    "    \n",
    "t = int(input())\n",
    "while t > 0 : \n",
    "    arr, n = takeInput() \n",
    "    pushZerosAtEnd(arr, n)\n",
    "    printList(arr, n)\n",
    "    \n",
    "    t -= 1"
   ]
  }
 ],
 "metadata": {
  "kernelspec": {
   "display_name": "Python 3",
   "language": "python",
   "name": "python3"
  },
  "language_info": {
   "codemirror_mode": {
    "name": "ipython",
    "version": 3
   },
   "file_extension": ".py",
   "mimetype": "text/x-python",
   "name": "python",
   "nbconvert_exporter": "python",
   "pygments_lexer": "ipython3",
   "version": "3.7.6"
  }
 },
 "nbformat": 4,
 "nbformat_minor": 4
}
