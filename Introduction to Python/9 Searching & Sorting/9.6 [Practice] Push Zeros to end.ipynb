{
 "cells": [
  {
   "cell_type": "markdown",
   "metadata": {},
   "source": [
    "#### Push Zeros to end\n",
    "\n",
    "Given a random integer array, push all the zeros that are present to end of the array. The respective order of other elements should remain same.\n",
    "Change in the input array itself. You don't need to return or print elements. Don't use extra array.\n",
    "Note : You need to do this in one scan of array only.\n",
    "Input format :\n",
    "Line 1 : Integer N, Array Size\n",
    "Line 2 : Array elements (separated by space)\n",
    "Output Format :\n",
    "Array elements (separated by space)\n",
    "Constraints :\n",
    "1 <= N <= 10^6\n",
    "Sample Input 1:\n",
    "7\n",
    "2 0 4 1 3 0 28\n",
    "Sample Output 1:\n",
    "2 4 1 3 28 0 0\n",
    "Sample Input 2:\n",
    "5\n",
    "0 3 0 2 0\n",
    "Sample Output 2:\n",
    "3 2 0 0 0"
   ]
  },
  {
   "cell_type": "code",
   "execution_count": 2,
   "metadata": {},
   "outputs": [
    {
     "name": "stdout",
     "output_type": "stream",
     "text": [
      "6\n",
      "0 58 2 0 4 0\n",
      "58 2 4 0 0 0 "
     ]
    }
   ],
   "source": [
    "n = int(input())\n",
    "arr = [int(x) for x in input().split()[:n]]\n",
    "for i in range(0, n):\n",
    "    for j in range(0, n - i - 1):\n",
    "        if arr[j] == 0:\n",
    "            arr[j], arr[j+1] = arr[j+1], arr[j]\n",
    "    \n",
    "for ele in arr:\n",
    "    print(ele, end = ' ')   "
   ]
  },
  {
   "cell_type": "code",
   "execution_count": 3,
   "metadata": {},
   "outputs": [
    {
     "name": "stdout",
     "output_type": "stream",
     "text": [
      "65 25 36 0 0 "
     ]
    }
   ],
   "source": [
    "#n = int(input())\n",
    "#arr = [int(x) for x in input().split()[:n]]\n",
    "arr = [65,0,25,0,36]\n",
    "zero = 0\n",
    "count = 0\n",
    "for i in range(0, len(arr)):\n",
    "    if arr[i] == 0:\n",
    "        count = count + 1\n",
    "    else:\n",
    "        print(arr[i], end = ' ')\n",
    "while count > 0:\n",
    "    print(0, end = ' ')\n",
    "    count = count - 1\n",
    "        "
   ]
  },
 ],
 "metadata": {
  "kernelspec": {
   "display_name": "Python 3",
   "language": "python",
   "name": "python3"
  },
  "language_info": {
   "codemirror_mode": {
    "name": "ipython",
    "version": 3
   },
   "file_extension": ".py",
   "mimetype": "text/x-python",
   "name": "python",
   "nbconvert_exporter": "python",
   "pygments_lexer": "ipython3",
   "version": "3.7.3"
  }
 },
 "nbformat": 4,
 "nbformat_minor": 2
}
