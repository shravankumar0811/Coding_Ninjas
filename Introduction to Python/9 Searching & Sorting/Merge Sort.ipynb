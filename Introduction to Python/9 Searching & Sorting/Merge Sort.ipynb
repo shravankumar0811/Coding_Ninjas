{
 "cells": [
  {
   "cell_type": "code",
   "execution_count": 1,
   "metadata": {},
   "outputs": [
    {
     "name": "stdout",
     "output_type": "stream",
     "text": [
      "1\n",
      "5\n",
      "1 3 4 7 11\n",
      "4\n",
      "2 4 6 13\n",
      "1 2 3 4 4 6 7 11 13 \n"
     ]
    }
   ],
   "source": [
    "from sys import stdin\n",
    "def merge(arr1, n, arr2, m) : \n",
    "    ans = (n + m) * [0]\n",
    "    i = 0 \n",
    "    j = 0 \n",
    "    k = 0\n",
    "    while i < n and j < m :\n",
    "        if arr1[i] < arr2[j] :\n",
    "            ans[k] = arr1[i]\n",
    "            k += 1 \n",
    "            i += 1 \n",
    "        else : \n",
    "            ans[k] = arr2[j] \n",
    "            k += 1 \n",
    "            j += 1 \n",
    "    while i < n :\n",
    "        ans[k] = arr1[i]\n",
    "        k += 1\n",
    "        i += 1\n",
    "    while j < m :\n",
    "        ans[k] = arr2[j]\n",
    "        k += 1\n",
    "        j += 1\n",
    "    return ans \n",
    "def takeInput() :\n",
    "    n = int(input()) \n",
    "    if n != 0: \n",
    "        arr = list(map(int, input().strip().split(\" \"))) \n",
    "        return arr, n\n",
    "    return list(), 0\n",
    "def printList(arr, n) : \n",
    "    for i in range(n) :\n",
    "        print(arr[i], end = \" \") \n",
    "    print()\n",
    "    \n",
    "t = int(input()) \n",
    "while t > 0 :\n",
    "    arr1, n = takeInput()\n",
    "    arr2, m = takeInput()\n",
    "    ans = merge(arr1, n, arr2, m) \n",
    "    printList(ans, (n + m)) \n",
    "    \n",
    "    t -= 1"
   ]
  }
 ],
 "metadata": {
  "kernelspec": {
   "display_name": "Python 3",
   "language": "python",
   "name": "python3"
  },
  "language_info": {
   "codemirror_mode": {
    "name": "ipython",
    "version": 3
   },
   "file_extension": ".py",
   "mimetype": "text/x-python",
   "name": "python",
   "nbconvert_exporter": "python",
   "pygments_lexer": "ipython3",
   "version": "3.7.6"
  }
 },
 "nbformat": 4,
 "nbformat_minor": 4
}
