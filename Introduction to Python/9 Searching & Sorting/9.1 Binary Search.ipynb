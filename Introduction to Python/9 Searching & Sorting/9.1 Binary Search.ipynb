{
 "cells": [
  {
   "cell_type": "markdown",
   "metadata": {},
   "source": [
    "### Binary Search"
   ]
  },
  {
   "cell_type": "code",
   "execution_count": 3,
   "metadata": {},
   "outputs": [
    {
     "name": "stdout",
     "output_type": "stream",
     "text": [
      "5\n",
      "12 54 23 69 85\n",
      "23\n",
      "2\n"
     ]
    }
   ],
   "source": [
    "def binary(arr, low, high, key):\n",
    "    if low <= high:\n",
    "      mid = (low + high) // 2\n",
    "      if key == arr[mid]:\n",
    "        return mid\n",
    "      elif arr[mid] > key:\n",
    "        return binary(arr, low, mid - 1, key)\n",
    "      elif arr[mid] < key:\n",
    "        return binary(arr, mid + 1, high, key)\n",
    "    else:\n",
    "      return -1\n",
    "        \n",
    "n = int(input())        \n",
    "arr = [int (x) for x in input().split() [:n]]\n",
    "key = int(input())\n",
    "ele = binary(arr, 0, n-1, key)\n",
    "print(ele)\n",
    "      \n"
   ]
  },
  {
   "cell_type": "code",
   "execution_count": 13,
   "metadata": {},
   "outputs": [
    {
     "name": "stdout",
     "output_type": "stream",
     "text": [
      "84\n",
      "4\n"
     ]
    }
   ],
   "source": [
    "def binary_search(arr, element):\n",
    "    start = 0\n",
    "    end = len(arr) - 1\n",
    "    while (start <= end):\n",
    "        mid = (start + end) // 2\n",
    "        if (arr[mid] == element):\n",
    "            return mid\n",
    "        elif (arr[mid] < element):\n",
    "            start = mid + 1\n",
    "        else:\n",
    "            end = mid - 1\n",
    "    return -1\n",
    "arr = [1,32,48,56,84,136]\n",
    "key = int(input())\n",
    "index = binary_search(arr, key)\n",
    "print(index)\n",
    "    "
   ]
  }
 ],
 "metadata": {
  "kernelspec": {
   "display_name": "Python 3",
   "language": "python",
   "name": "python3"
  },
  "language_info": {
   "codemirror_mode": {
    "name": "ipython",
    "version": 3
   },
   "file_extension": ".py",
   "mimetype": "text/x-python",
   "name": "python",
   "nbconvert_exporter": "python",
   "pygments_lexer": "ipython3",
   "version": "3.7.3"
  }
 },
 "nbformat": 4,
 "nbformat_minor": 2
}
