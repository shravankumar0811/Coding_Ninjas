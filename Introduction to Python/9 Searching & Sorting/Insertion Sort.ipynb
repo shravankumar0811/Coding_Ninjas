{
 "cells": [
  {
   "cell_type": "code",
   "execution_count": 1,
   "metadata": {},
   "outputs": [
    {
     "name": "stdout",
     "output_type": "stream",
     "text": [
      "1\n",
      "7\n",
      "2 13 4 1 3 6 28\n",
      "1 2 3 4 6 13 28 \n"
     ]
    }
   ],
   "source": [
    "from sys import stdin \n",
    "def insertionSort(arr, n) :\n",
    "    i = 1 \n",
    "    while i < n :\n",
    "        temp = arr[i]\n",
    "        j = i - 1\n",
    "        while j >= 0 :\n",
    "            if arr[j] > temp :\n",
    "                arr[j + 1] = arr[j] \n",
    "            else :\n",
    "                break \n",
    "                \n",
    "            j -= 1 \n",
    "            \n",
    "        arr[j + 1] = temp\n",
    "        i += 1\n",
    "\n",
    "def takeInput() : \n",
    "    n = int(input())\n",
    "    if n == 0 : \n",
    "        return list(), 0 \n",
    "    arr = list(map(int, input().strip().split(\" \"))) \n",
    "    return arr, n \n",
    "def printList(arr, n) : \n",
    "    for i in range(n) :\n",
    "        print(arr[i], end = \" \") \n",
    "    print() \n",
    "\n",
    "t = int(input())\n",
    "while t > 0 :\n",
    "    arr, n = takeInput()\n",
    "    insertionSort(arr, n)\n",
    "    printList(arr, n) \n",
    "    t-= 1"
   ]
  },
  {
   "cell_type": "code",
   "execution_count": null,
   "metadata": {},
   "outputs": [],
   "source": []
  }
 ],
 "metadata": {
  "kernelspec": {
   "display_name": "Python 3",
   "language": "python",
   "name": "python3"
  },
  "language_info": {
   "codemirror_mode": {
    "name": "ipython",
    "version": 3
   },
   "file_extension": ".py",
   "mimetype": "text/x-python",
   "name": "python",
   "nbconvert_exporter": "python",
   "pygments_lexer": "ipython3",
   "version": "3.7.6"
  }
 },
 "nbformat": 4,
 "nbformat_minor": 4
}
