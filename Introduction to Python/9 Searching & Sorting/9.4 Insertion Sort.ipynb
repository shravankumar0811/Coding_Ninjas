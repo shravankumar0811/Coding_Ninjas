{
 "cells": [
  {
   "cell_type": "markdown",
   "metadata": {},
   "source": [
    "### Insertion Sort"
   ]
  },
  {
   "cell_type": "code",
   "execution_count": 8,
   "metadata": {},
   "outputs": [
    {
     "name": "stdout",
     "output_type": "stream",
     "text": [
      "5\n",
      "48 25 85 31 2\n",
      "2 25 31 48 85 "
     ]
    }
   ],
   "source": [
    "n = int(input())\n",
    "arr = [int(x) for x in input().split()[:n]]\n",
    "for i in range(0, n):\n",
    "    temp = arr[i]\n",
    "    # shifting elements till this condition holds\n",
    "    j = i - 1\n",
    "    while (j >= 0 and arr[j] > temp):\n",
    "        arr[j + 1] = arr[j]\n",
    "        j = j - 1\n",
    "    # j + 1 is the correct postion for ith element    \n",
    "    arr[j+1] = temp\n",
    "for ele in arr:\n",
    "    print(ele, end = ' ')"
   ]
  },
 ],
 "metadata": {
  "kernelspec": {
   "display_name": "Python 3",
   "language": "python",
   "name": "python3"
  },
  "language_info": {
   "codemirror_mode": {
    "name": "ipython",
    "version": 3
   },
   "file_extension": ".py",
   "mimetype": "text/x-python",
   "name": "python",
   "nbconvert_exporter": "python",
   "pygments_lexer": "ipython3",
   "version": "3.7.3"
  }
 },
 "nbformat": 4,
 "nbformat_minor": 2
}
