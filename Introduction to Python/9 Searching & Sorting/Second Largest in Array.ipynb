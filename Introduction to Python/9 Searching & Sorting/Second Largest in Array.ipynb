{
 "cells": [
  {
   "cell_type": "code",
   "execution_count": 3,
   "metadata": {},
   "outputs": [
    {
     "name": "stdout",
     "output_type": "stream",
     "text": [
      "1\n",
      "5\n",
      "9 3 6 2 9\n",
      "6\n"
     ]
    }
   ],
   "source": [
    "from sys import stdin \n",
    "MIN_VALUE = -2147483648 \n",
    "def secondLargestElement(arr, n):\n",
    "    if n == 0 : \n",
    "        return MIN_VALUE\n",
    "    largest = arr[0] \n",
    "    secondLargest = MIN_VALUE \n",
    "    for i in range(n) : \n",
    "        if largest < arr[i] : \n",
    "            secondLargest = largest \n",
    "            largest = arr[i]\n",
    "        elif secondLargest < arr[i] and arr[i] != largest :\n",
    "            secondLargest = arr[i] \n",
    "    return secondLargest \n",
    "def takeInput() :\n",
    "    n = int(input()) \n",
    "    if n != 0: \n",
    "        arr = list(map(int, input().rstrip().split(\" \"))) \n",
    "        return arr, n\n",
    "    return list(), 0\n",
    "t = int(input().rstrip()) \n",
    "while t > 0 :\n",
    "    arr, n = takeInput()\n",
    "    print(secondLargestElement(arr, n)) \n",
    "    \n",
    "    t -= 1"
   ]
  }
 ],
 "metadata": {
  "kernelspec": {
   "display_name": "Python 3",
   "language": "python",
   "name": "python3"
  },
  "language_info": {
   "codemirror_mode": {
    "name": "ipython",
    "version": 3
   },
   "file_extension": ".py",
   "mimetype": "text/x-python",
   "name": "python",
   "nbconvert_exporter": "python",
   "pygments_lexer": "ipython3",
   "version": "3.7.6"
  }
 },
 "nbformat": 4,
 "nbformat_minor": 4
}
