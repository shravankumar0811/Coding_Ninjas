{
 "cells": [
  {
   "cell_type": "code",
   "execution_count": 1,
   "metadata": {},
   "outputs": [
    {
     "name": "stdout",
     "output_type": "stream",
     "text": [
      "7\n",
      "0 1 2 0 2 0 1\n",
      "0 0 0 1 1 2 2 "
     ]
    }
   ],
   "source": [
    "## Read input as specified in the question.\n",
    "## Print output as specified in the question.\n",
    "## Read input as specified in the question.\n",
    "## Print output as specified in the question.\n",
    "n = int(input())\n",
    "list = [int (x) for x in input().split() [:n]]\n",
    "count0 = 0\n",
    "count1 = 0\n",
    "count2 = 0\n",
    "for i in list:\n",
    "    if i == 0:\n",
    "        count0 = count0 + 1\n",
    "    elif i == 1:\n",
    "        count1 = count1 + 1\n",
    "    else:\n",
    "        count2 = count2 + 1\n",
    "list = []\n",
    "for i in range(0, count0):\n",
    "    list.append(0)\n",
    "for i in range(0, count1):\n",
    "    list.append(1)\n",
    "for i in range(0, count2):\n",
    "    list.append(2)\n",
    "        \n",
    "        \n",
    "for ele in list:\n",
    "    print(ele, end = ' ')"
   ]
  },
  {
   "cell_type": "code",
   "execution_count": null,
   "metadata": {},
   "outputs": [],
   "source": []
  }
 ],
 "metadata": {
  "kernelspec": {
   "display_name": "Python 3",
   "language": "python",
   "name": "python3"
  },
  "language_info": {
   "codemirror_mode": {
    "name": "ipython",
    "version": 3
   },
   "file_extension": ".py",
   "mimetype": "text/x-python",
   "name": "python",
   "nbconvert_exporter": "python",
   "pygments_lexer": "ipython3",
   "version": "3.7.3"
  }
 },
 "nbformat": 4,
 "nbformat_minor": 2
}
