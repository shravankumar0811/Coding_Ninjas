{
 "cells": [
  {
   "cell_type": "code",
   "execution_count": 3,
   "metadata": {},
   "outputs": [
    {
     "name": "stdout",
     "output_type": "stream",
     "text": [
      "1\n",
      "7\n",
      "1 2 3 4 5 6 7\n",
      "12\n",
      "5\n"
     ]
    }
   ],
   "source": [
    "from sys import stdin \n",
    "def findTriplet(arr, n, x) :\n",
    "    numTriplets = 0 \n",
    "    for i in range(n) : \n",
    "        for j in range((i + 1), n) :\n",
    "            for k in range((j + 1), n) : \n",
    "                if (arr[i] + arr[j] + arr[k]) == x :\n",
    "                    numTriplets += 1 \n",
    "    return numTriplets \n",
    "def takeInput() :\n",
    "    n = int(input())\n",
    "    if n == 0 : \n",
    "        return list(), 0\n",
    "    arr = list(map(int, input().strip().split(\" \")))\n",
    "    return arr, n \n",
    "t = int(input().strip())\n",
    "while t > 0 :\n",
    "    arr, n = takeInput()\n",
    "    x = int(input().strip()) \n",
    "    print(findTriplet(arr, n, x))\n",
    "    \n",
    "    t -= 1"
   ]
  }
 ],
 "metadata": {
  "kernelspec": {
   "display_name": "Python 3",
   "language": "python",
   "name": "python3"
  },
  "language_info": {
   "codemirror_mode": {
    "name": "ipython",
    "version": 3
   },
   "file_extension": ".py",
   "mimetype": "text/x-python",
   "name": "python",
   "nbconvert_exporter": "python",
   "pygments_lexer": "ipython3",
   "version": "3.7.6"
  }
 },
 "nbformat": 4,
 "nbformat_minor": 4
}
