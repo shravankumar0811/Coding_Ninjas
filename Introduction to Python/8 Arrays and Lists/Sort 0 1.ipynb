{
 "cells": [
  {
   "cell_type": "code",
   "execution_count": 1,
   "metadata": {},
   "outputs": [
    {
     "name": "stdout",
     "output_type": "stream",
     "text": [
      "2\n",
      "8\n",
      "1 0 1 1 0 1 0 1\n",
      "0 0 0 1 1 1 1 1 \n",
      "\n",
      "5\n",
      "0 1 0 1 0\n",
      "0 0 0 1 1 \n",
      "\n"
     ]
    }
   ],
   "source": [
    "from sys import stdin \n",
    "def sortZeroesAndOne(arr, n) : \n",
    "    nextZero = 0 \n",
    "    for i in range(n) : \n",
    "        if arr[i] == 0 :\n",
    "            temp = arr[nextZero] \n",
    "            arr[nextZero] = arr[i]\n",
    "            arr[i] = temp \n",
    "            nextZero += 1 \n",
    "def takeInput() :\n",
    "    n = int(input().strip())\n",
    "    if n == 0 : \n",
    "        return list(), 0 \n",
    "    arr = list(map(int, input().strip().split(\" \"))) \n",
    "    return arr, n\n",
    "def printList(arr, n) :\n",
    "    for i in range(n) : \n",
    "        print(arr[i], end = ' ') \n",
    "    print()\n",
    "t = int(input()) \n",
    "while t > 0 :\n",
    "    arr, n = takeInput()\n",
    "    sortZeroesAndOne(arr, n)\n",
    "    printList(arr, n) \n",
    "    print() \n",
    "    \n",
    "    t -= 1"
   ]
  }
 ],
 "metadata": {
  "kernelspec": {
   "display_name": "Python 3",
   "language": "python",
   "name": "python3"
  },
  "language_info": {
   "codemirror_mode": {
    "name": "ipython",
    "version": 3
   },
   "file_extension": ".py",
   "mimetype": "text/x-python",
   "name": "python",
   "nbconvert_exporter": "python",
   "pygments_lexer": "ipython3",
   "version": "3.7.6"
  }
 },
 "nbformat": 4,
 "nbformat_minor": 4
}
