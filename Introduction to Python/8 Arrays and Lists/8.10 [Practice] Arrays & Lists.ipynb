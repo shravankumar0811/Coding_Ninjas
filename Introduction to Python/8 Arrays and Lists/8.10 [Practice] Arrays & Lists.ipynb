{
 "cells": [
  {
   "cell_type": "code",
   "execution_count": null,
   "metadata": {},
   "outputs": [],
   "source": [
    "n = int(input())\n",
    "li = [int(x) for x in input().split()]\n",
    "length = len(li)\n",
    "if length % 2 == 1:\n",
    "    length = length - 1 \n",
    "for i in range(0,length,2):\n",
    "    li[i], li[i+1] = li[i+1], li[i] \n",
    "li\n"
   ]
  },
  {
   "cell_type": "markdown",
   "metadata": {},
   "source": [
    "### Find Unique"
   ]
  },
  {
   "cell_type": "code",
   "execution_count": 12,
   "metadata": {},
   "outputs": [
    {
     "name": "stdout",
     "output_type": "stream",
     "text": [
      "7\n",
      "2 3 6 1 3 6 2\n",
      "1\n"
     ]
    }
   ],
   "source": [
    "n = int(input())\n",
    "li = [int(x) for x in input().split()]\n",
    "\n",
    "li.sort()\n",
    "k = 0\n",
    "for i in range(0, len(li), 1):\n",
    "   i = k\n",
    "   if(li[i]==li[i+1]):\n",
    "       li.remove(li[i])\n",
    "       li.remove(li[i])\n",
    "       \n",
    "       if len(li) == 1:\n",
    "           break\n",
    "   else:\n",
    "       k = k + 1\n",
    "for ele in li:\n",
    "  print(ele)"
   ]
  },
  {
   "cell_type": "markdown",
   "metadata": {},
   "source": [
    "### Find Duplicate"
   ]
  },
  {
   "cell_type": "code",
   "execution_count": 13,
   "metadata": {},
   "outputs": [
    {
     "name": "stdout",
     "output_type": "stream",
     "text": [
      "8\n",
      "1 2 54 87 69 54 23 6\n",
      "54\n"
     ]
    }
   ],
   "source": [
    "n = int(input())\n",
    "list = [int(x) for x in input().split()[:n]]\n",
    "#list = [0, 7, 2, 5, 4, 7, 1, 3, 6]\n",
    "list.sort()\n",
    "for i in range(0, len(list) - 1, 1):\n",
    "  if list[i] == list[i+1]:\n",
    "    print(list[i])\n"
   ]
  },
  {
   "cell_type": "markdown",
   "metadata": {},
   "source": [
    "### Intersection of Arrays"
   ]
  },
  {
   "cell_type": "code",
   "execution_count": 2,
   "metadata": {},
   "outputs": [
    {
     "name": "stdout",
     "output_type": "stream",
     "text": [
      "5\n",
      "1 2 3 4 5\n",
      "3\n",
      "1 2 3\n",
      "1\n",
      "2\n",
      "3\n"
     ]
    }
   ],
   "source": [
    "m = int(input()) \n",
    "li1 = [int(x) for x in input().split()[:m]] \n",
    "n = int(input()) \n",
    "li2 = [int(x) for x in input().split()[:n]] \n",
    "li3 = [] \n",
    "for i in li1:\n",
    "   for j in li2:\n",
    "      if i == j:\n",
    "        li3.append(i) \n",
    "        li2.remove(j) \n",
    "        break \n",
    "for ele in li3:\n",
    "   print(ele) "
   ]
  },
  {
   "cell_type": "markdown",
   "metadata": {},
   "source": [
    "### Pair Sum"
   ]
  },
  {
   "cell_type": "code",
   "execution_count": 3,
   "metadata": {},
   "outputs": [
    {
     "name": "stdout",
     "output_type": "stream",
     "text": [
      "9\n",
      "1 3 6 2 5 4 3 2 4\n",
      "7\n",
      "1   6\n",
      "3   4\n",
      "3   4\n",
      "2   5\n",
      "2   5\n",
      "3   4\n",
      "3   4\n"
     ]
    }
   ],
   "source": [
    "def pair_sum(a,b):\n",
    "    if a <= b:\n",
    "        print(a,\" \",b)\n",
    "    else:\n",
    "        print(b,\" \",a)\n",
    "        \n",
    "n = int(input())\n",
    "list = [int(x) for x in input().split()[:n]]\n",
    "key = int(input())\n",
    "for i in range(0, len(list)-1):\n",
    "    for j in range(i+1, len(list)):\n",
    "        if(list[i] + list[j] == key):\n",
    "            pair_sum(list[i], list[j])\n",
    "        \n"
   ]
  },
  {
   "cell_type": "markdown",
   "metadata": {},
   "source": [
    "### Triplet Sum"
   ]
  },
  {
   "cell_type": "code",
   "execution_count": 6,
   "metadata": {},
   "outputs": [
    {
     "name": "stdout",
     "output_type": "stream",
     "text": [
      "7\n",
      "1 2 3 4 5 6 7\n",
      "12\n",
      "1 4 7 \n",
      "1 5 6 \n",
      "2 3 7 \n",
      "2 4 6 \n",
      "3 4 5 \n"
     ]
    }
   ],
   "source": [
    "def pair_sum(a,b,c):\n",
    "    list3 = []\n",
    "    list3.append(a)\n",
    "    list3.append(b)\n",
    "    list3.append(c)\n",
    "    list3.sort()\n",
    "    for ele in list3:\n",
    "        print(ele, end = ' ')\n",
    "    print()\n",
    "        \n",
    "n = int(input())\n",
    "list = [int(x) for x in input().split()[:n]]\n",
    "key = int(input())\n",
    "for i in range(0, len(list)-2):\n",
    "    for j in range(i+1, len(list)-1):\n",
    "        for k in range(j+1, len(list)):\n",
    "            if(list[i] + list[j] + list[k] == key):\n",
    "                pair_sum(list[i], list[j], list[k])\n",
    "        \n"
   ]
  },
  {
   "cell_type": "markdown",
   "metadata": {},
   "source": [
    "### Sort 0 1"
   ]
  },
  {
   "cell_type": "code",
   "execution_count": 11,
   "metadata": {},
   "outputs": [
    {
     "name": "stdout",
     "output_type": "stream",
     "text": [
      "3\n",
      "0 1 0\n",
      "0 0 1 "
     ]
    }
   ],
   "source": [
    "n = int(input())\n",
    "list = [int (x) for x in input().split() [:n]]\n",
    "count0 = 0\n",
    "count1 = 0\n",
    "for i in list:\n",
    "    if i == 0:\n",
    "        count0 = count0 + 1\n",
    "    else:\n",
    "        count1 = count1 + 1\n",
    "list = []\n",
    "for i in range(0, count0):\n",
    "    list.append(0)\n",
    "for i in range(0, count1):\n",
    "    list.append(1)\n",
    "        \n",
    "for ele in list:\n",
    "    print(ele, end = ' ')"
   ]
  },
  {
   "cell_type": "code",
   "execution_count": null,
   "metadata": {},
   "outputs": [],
   "source": []
  }
 ],
 "metadata": {
  "kernelspec": {
   "display_name": "Python 3",
   "language": "python",
   "name": "python3"
  },
  "language_info": {
   "codemirror_mode": {
    "name": "ipython",
    "version": 3
   },
   "file_extension": ".py",
   "mimetype": "text/x-python",
   "name": "python",
   "nbconvert_exporter": "python",
   "pygments_lexer": "ipython3",
   "version": "3.7.3"
  }
 },
 "nbformat": 4,
 "nbformat_minor": 2
}
