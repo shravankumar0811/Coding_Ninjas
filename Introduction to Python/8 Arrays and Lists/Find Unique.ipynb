{
 "cells": [
  {
   "cell_type": "code",
   "execution_count": 7,
   "metadata": {},
   "outputs": [
    {
     "name": "stdout",
     "output_type": "stream",
     "text": [
      "1\n",
      "7\n",
      "2 3 1 6 3 6 2\n",
      "1\n"
     ]
    }
   ],
   "source": [
    "import sys\n",
    "def findUnique(arr, n) :\n",
    "    for i in range(n) :\n",
    "        j = 0\n",
    "        while j < n :\n",
    "            if i != j :\n",
    "                if arr[i] == arr[j] :\n",
    "                    break\n",
    "            j += 1\n",
    "        if j == n : \n",
    "            return arr[i]\n",
    "def takeInput() :\n",
    "    n = int(input())\n",
    "    if n == 0 :\n",
    "        return list(), 0\n",
    "    arr = list(map(int, input().rstrip().split(\" \"))) \n",
    "    return arr, n\n",
    "t = int(input()) \n",
    "while t > 0 : \n",
    "    arr, n = takeInput()\n",
    "    print(findUnique(arr, n)) \n",
    "    t -= 1"
   ]
  },
  {
   "cell_type": "code",
   "execution_count": 6,
   "metadata": {},
   "outputs": [
    {
     "name": "stdout",
     "output_type": "stream",
     "text": [
      "1\n",
      "1 1 2 2 3 3 5\n",
      "5\n"
     ]
    }
   ],
   "source": [
    "\n",
    "def findSingle( ar, n): \n",
    "      \n",
    "    res = ar[0] \n",
    "    for i in range(1,n): \n",
    "        res = res ^ ar[i] \n",
    "      \n",
    "    return res \n",
    "  \n",
    "n=int(input())\n",
    "ar = [int(x) for x in input().split()] \n",
    "print(findSingle(ar, len(ar))) "
   ]
  }
 ],
 "metadata": {
  "kernelspec": {
   "display_name": "Python 3",
   "language": "python",
   "name": "python3"
  },
  "language_info": {
   "codemirror_mode": {
    "name": "ipython",
    "version": 3
   },
   "file_extension": ".py",
   "mimetype": "text/x-python",
   "name": "python",
   "nbconvert_exporter": "python",
   "pygments_lexer": "ipython3",
   "version": "3.7.6"
  }
 },
 "nbformat": 4,
 "nbformat_minor": 4
}
