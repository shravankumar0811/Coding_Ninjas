{
 "cells": [
  {
   "cell_type": "code",
   "execution_count": 5,
   "metadata": {},
   "outputs": [
    {
     "name": "stdout",
     "output_type": "stream",
     "text": [
      "10\n",
      "12 Inside f1()"
     ]
    }
   ],
   "source": [
    "a1 = 10 #global variable\n",
    "\n",
    "def f1():\n",
    "    b1 = 12 #local variable\n",
    "    print(b1, end = ' Inside f1()')\n",
    "\n",
    "print(a1)\n",
    "f1()\n",
    "# Cannot print a local variable outside the function print(b1)"
   ]
  },
  {
   "cell_type": "code",
   "execution_count": 8,
   "metadata": {},
   "outputs": [
    {
     "name": "stdout",
     "output_type": "stream",
     "text": [
      "10\n",
      "12 Inside f1() \n",
      "10\n"
     ]
    }
   ],
   "source": [
    "a2 = 10 #global variable\n",
    "\n",
    "def f2():\n",
    "    b2 = 12 #local variable\n",
    "    print(b2, end = ' Inside f1() \\n')\n",
    "    print(a2)\n",
    "\n",
    "print(a2)\n",
    "f2()"
   ]
  },
  {
   "cell_type": "code",
   "execution_count": 12,
   "metadata": {},
   "outputs": [
    {
     "name": "stdout",
     "output_type": "stream",
     "text": [
      "10\n",
      "12 Inside f1() \n",
      "10\n"
     ]
    }
   ],
   "source": [
    "# You can access any global variable defined before the function call\n",
    "# Here c3 cannot be accessed because you've declared it after the funciton call\n",
    "\n",
    "def f3():\n",
    "    b3 = 12 #local variable\n",
    "    print(b3, end = ' Inside f1() \\n')\n",
    "    print(a3)\n",
    "    #rint(c3)\n",
    "    \n",
    "a3 = 10 #global variable\n",
    "print(a3)\n",
    "f3()\n",
    "c3 = 9"
   ]
  },
  {
   "cell_type": "markdown",
   "metadata": {},
   "source": [
    "### Local v/s Global variable"
   ]
  },
  {
   "cell_type": "code",
   "execution_count": 14,
   "metadata": {},
   "outputs": [
    {
     "name": "stdout",
     "output_type": "stream",
     "text": [
      "13\n",
      "12\n",
      "Id of a4 (local) 140731172820128\n",
      "13\n",
      "Id of a4 (global) 140731172820160\n"
     ]
    }
   ],
   "source": [
    "a4 = 13\n",
    "def f4():\n",
    "    a4 = 12    # Python assumes you want to create a local variable \n",
    "    print(a4)  #12\n",
    "    print(\"Id of a4 (local)\", id(a4))\n",
    "print(a4)  #13\n",
    "f4()\n",
    "print(a4)  #13 \n",
    "print(\"Id of a4 (global)\", id(a4))"
   ]
  },
  {
   "cell_type": "markdown",
   "metadata": {},
   "source": [
    "### How to access global variable in a local scope (inside a function) ?\n",
    "### global keyword"
   ]
  },
  {
   "cell_type": "code",
   "execution_count": 18,
   "metadata": {},
   "outputs": [
    {
     "name": "stdout",
     "output_type": "stream",
     "text": [
      "13\n",
      "12\n",
      "Id of a4 (inside the function) 140731172820128\n",
      "12\n",
      "Id of a4 (outside the function) 140731172820128\n"
     ]
    }
   ],
   "source": [
    "a4 = 13\n",
    "def f4():\n",
    "    global a4\n",
    "    a4 = 12    # Python assumes you want to change the value of a global variable\n",
    "    print(a4)  #12\n",
    "    print(\"Id of a4 (inside the function)\", id(a4))\n",
    "print(a4)  #13\n",
    "f4()\n",
    "print(a4)  #13 \n",
    "print(\"Id of a4 (outside the function)\", id(a4))"
   ]
  },
  {
   "cell_type": "code",
   "execution_count": 22,
   "metadata": {},
   "outputs": [
    {
     "name": "stdout",
     "output_type": "stream",
     "text": [
      "10\n"
     ]
    }
   ],
   "source": [
    "def f():\n",
    "    b = 10\n",
    "    return b\n",
    "x = f()\n",
    "print(x)"
   ]
  },
  {
   "cell_type": "code",
   "execution_count": 23,
   "metadata": {},
   "outputs": [
    {
     "name": "stdout",
     "output_type": "stream",
     "text": [
      "14\n"
     ]
    }
   ],
   "source": [
    "#predict the output\n",
    "a = 14\n",
    "def f():\n",
    "    a=12\n",
    "f()\n",
    "print(a)"
   ]
  },
  {
   "cell_type": "code",
   "execution_count": 24,
   "metadata": {},
   "outputs": [
    {
     "name": "stdout",
     "output_type": "stream",
     "text": [
      "12\n"
     ]
    }
   ],
   "source": [
    "#predict the output\n",
    "a=14\n",
    "def f():\n",
    "    global a\n",
    "    a=12\n",
    "f()\n",
    "print(a)"
   ]
  },
  {
   "cell_type": "code",
   "execution_count": 25,
   "metadata": {},
   "outputs": [
    {
     "name": "stdout",
     "output_type": "stream",
     "text": [
      "12\n"
     ]
    }
   ],
   "source": [
    "#predict the output\n",
    "a = 14\n",
    "def f():\n",
    "    a = 12\n",
    "    return a\n",
    "a = f()\n",
    "print(a)"
   ]
  },
  {
   "cell_type": "code",
   "execution_count": null,
   "metadata": {},
   "outputs": [],
   "source": []
  }
 ],
 "metadata": {
  "kernelspec": {
   "display_name": "Python 3",
   "language": "python",
   "name": "python3"
  },
  "language_info": {
   "codemirror_mode": {
    "name": "ipython",
    "version": 3
   },
   "file_extension": ".py",
   "mimetype": "text/x-python",
   "name": "python",
   "nbconvert_exporter": "python",
   "pygments_lexer": "ipython3",
   "version": "3.7.3"
  }
 },
 "nbformat": 4,
 "nbformat_minor": 2
}
