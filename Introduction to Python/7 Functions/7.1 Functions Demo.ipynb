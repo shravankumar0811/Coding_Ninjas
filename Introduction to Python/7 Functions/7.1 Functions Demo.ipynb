{
 "cells": [
  {
   "cell_type": "markdown",
   "metadata": {},
   "source": [
    "### ncr (Factorial of a number)"
   ]
  },
  {
   "cell_type": "markdown",
   "metadata": {},
   "source": [
    "Syntax of a function:- def function_name(args):"
   ]
  },
  {
   "cell_type": "code",
   "execution_count": 5,
   "metadata": {},
   "outputs": [
    {
     "name": "stdout",
     "output_type": "stream",
     "text": [
      "4\n",
      "2\n",
      "6\n"
     ]
    }
   ],
   "source": [
    "n = int(input())\n",
    "r = int(input())\n",
    "\n",
    "n_fact = 1\n",
    "for i in range(1, n + 1):\n",
    "    n_fact = n_fact * i\n",
    "\n",
    "\n",
    "r_fact = 1\n",
    "for i in range(1, r + 1):\n",
    "    r_fact = r_fact * i\n",
    "\n",
    "\n",
    "n_r_fact = 1\n",
    "for i in range(1, n - r + 1):\n",
    "    n_r_fact = n_r_fact * i\n",
    "\n",
    "ans = n_fact//(r_fact * n_r_fact)\n",
    "print(ans)"
   ]
  },
  {
   "cell_type": "code",
   "execution_count": 14,
   "metadata": {},
   "outputs": [
    {
     "name": "stdout",
     "output_type": "stream",
     "text": [
      "12\n",
      "479001600\n"
     ]
    }
   ],
   "source": [
    "def fact(n):\n",
    "    n_fact = 1\n",
    "    for i in range(1, n + 1):\n",
    "        n_fact = n_fact * i\n",
    "    return n_fact\n",
    "\n",
    "n = int(input())\n",
    "print(fact(n))\n",
    "    \n",
    "    "
   ]
  },
  {
   "cell_type": "code",
   "execution_count": 17,
   "metadata": {},
   "outputs": [
    {
     "name": "stdout",
     "output_type": "stream",
     "text": [
      "5\n",
      "2\n",
      "10\n"
     ]
    }
   ],
   "source": [
    "n = int(input())\n",
    "r = int(input())\n",
    "n_fact = fact(n)\n",
    "r_fact = fact(r)\n",
    "n_r_fact = fact(n-r)\n",
    "\n",
    "ans = n_fact//(r_fact * n_r_fact)\n",
    "print(ans)"
   ]
  },
  {
   "cell_type": "markdown",
   "metadata": {},
   "source": [
    "### Prime or Not"
   ]
  },
  {
   "cell_type": "code",
   "execution_count": 6,
   "metadata": {},
   "outputs": [
    {
     "name": "stdout",
     "output_type": "stream",
     "text": [
      "562634567\n",
      "562634567 is not prime\n"
     ]
    }
   ],
   "source": [
    "def isPrime(n):\n",
    "    for i in range(2,n):\n",
    "        if(n % i == 0):\n",
    "            break\n",
    "    else:\n",
    "        return True\n",
    "    return False\n",
    "\n",
    "n = int(input())\n",
    "if isPrime(n):\n",
    "    print(n, \"is prime\")\n",
    "else:\n",
    "    print(n, \"is not prime\")\n"
   ]
  },
  {
   "cell_type": "markdown",
   "metadata": {},
   "source": [
    "### Print Prime Numbers from 2 to N"
   ]
  },
  {
   "cell_type": "code",
   "execution_count": 14,
   "metadata": {},
   "outputs": [
    {
     "name": "stdout",
     "output_type": "stream",
     "text": [
      "20\n",
      "2\n",
      "3\n",
      "5\n",
      "7\n",
      "11\n",
      "13\n",
      "17\n",
      "19\n"
     ]
    }
   ],
   "source": [
    "def primeFrom2ToN(n):\n",
    "    for k in range(2, n+1):\n",
    "        if(isPrime(k)):\n",
    "            print(k)\n",
    "def isPrime(n):\n",
    "    for i in range(2,n):\n",
    "        if(n % i == 0):\n",
    "            break\n",
    "    else:\n",
    "        return True\n",
    "    return False\n",
    "\n",
    "n = int(input())\n",
    "primeFrom2ToN(n)   "
   ]
  },
  {
   "cell_type": "markdown",
   "metadata": {},
   "source": [
    "### Function to calculate ncr"
   ]
  },
  {
   "cell_type": "code",
   "execution_count": 17,
   "metadata": {},
   "outputs": [],
   "source": [
    "def ncr(n, r):\n",
    "    n_fact = fact(n)\n",
    "    r_fact = fact(r)\n",
    "    n_r_fact = fact(n-r)\n",
    "    ans = n_fact//(r_fact * n_r_fact)\n",
    "    return ans\n",
    "\n",
    "def fact(n):\n",
    "    n_fact = 1\n",
    "    for i in range(1, n + 1):\n",
    "        n_fact = n_fact * i\n",
    "    return n_fact"
   ]
  },
  {
   "cell_type": "code",
   "execution_count": 18,
   "metadata": {},
   "outputs": [
    {
     "data": {
      "text/plain": [
       "10"
      ]
     },
     "execution_count": 18,
     "metadata": {},
     "output_type": "execute_result"
    }
   ],
   "source": [
    "ncr(5, 2)"
   ]
  },
  {
   "cell_type": "code",
   "execution_count": 21,
   "metadata": {},
   "outputs": [
    {
     "name": "stdout",
     "output_type": "stream",
     "text": [
      "15\n"
     ]
    }
   ],
   "source": [
    "# Predict the output\n",
    "def func(a):\n",
    "    a = a + 10\n",
    "    return a\n",
    "a = 5\n",
    "func(a)\n",
    "print(func(a))"
   ]
  },
  {
   "cell_type": "code",
   "execution_count": 22,
   "metadata": {},
   "outputs": [
    {
     "name": "stdout",
     "output_type": "stream",
     "text": [
      "16\n"
     ]
    }
   ],
   "source": [
    "# Predict the output\n",
    "def square(a):\n",
    "    ans  = a*a\n",
    "    return  ans\n",
    "\n",
    "a = 4\n",
    "a = square(a)\n",
    "print(a)"
   ]
  },
  {
   "cell_type": "code",
   "execution_count": null,
   "metadata": {},
   "outputs": [],
   "source": []
  }
 ],
 "metadata": {
  "kernelspec": {
   "display_name": "Python 3",
   "language": "python",
   "name": "python3"
  },
  "language_info": {
   "codemirror_mode": {
    "name": "ipython",
    "version": 3
   },
   "file_extension": ".py",
   "mimetype": "text/x-python",
   "name": "python",
   "nbconvert_exporter": "python",
   "pygments_lexer": "ipython3",
   "version": "3.7.3"
  }
 },
 "nbformat": 4,
 "nbformat_minor": 2
}
