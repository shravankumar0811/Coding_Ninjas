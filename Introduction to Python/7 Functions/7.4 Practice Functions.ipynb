{
 "cells": [
  {
   "cell_type": "markdown",
   "metadata": {},
   "source": [
    "### Faherenheit to Celsius Functions"
   ]
  },
  {
   "cell_type": "code",
   "execution_count": 3,
   "metadata": {},
   "outputs": [
    {
     "name": "stdout",
     "output_type": "stream",
     "text": [
      "0\n",
      "100\n",
      "20\n",
      "0 \t -17\n",
      "20 \t -6\n",
      "40 \t 4\n",
      "60 \t 15\n",
      "80 \t 26\n",
      "100 \t 37\n"
     ]
    }
   ],
   "source": [
    "def printTable(start,end,step):\n",
    "    while(start <= end):\n",
    "        C = (start - 32) * (5/9)\n",
    "        print(start,\"\\t\",int( C))\n",
    "        start = start + step    \n",
    "        pass \n",
    "\n",
    "s = int(input())\n",
    "e = int(input())\n",
    "step = int(input())\n",
    "printTable(s,e,step)\n"
   ]
  },
  {
   "cell_type": "markdown",
   "metadata": {},
   "source": [
    "### Fibonacci Member Functions"
   ]
  },
  {
   "cell_type": "code",
   "execution_count": null,
   "metadata": {},
   "outputs": [],
   "source": [
    "f = 0\n",
    "s = 1\n",
    "t = 1\n",
    "\n",
    "def checkMember(n):\n",
    "    global f\n",
    "    global s\n",
    "    global t\n",
    "    while t <= n:\n",
    "      t = f + s\n",
    "      f = s\n",
    "      s = t\n",
    "      if f == n:\n",
    "        return 1\n",
    "    pass\n",
    "\n",
    "n=int(input())\n",
    "if(checkMember(n)):\n",
    "    print(\"true\")\n",
    "else:\n",
    "    print(\"false\")"
   ]
  },
  {
   "cell_type": "markdown",
   "metadata": {},
   "source": [
    "### Palindrome Number"
   ]
  },
  {
   "cell_type": "code",
   "execution_count": null,
   "metadata": {},
   "outputs": [],
   "source": [
    "def reverse(n):\n",
    "    rev = 0\n",
    "    while(n >0):\n",
    "        rem = n % 10\n",
    "        rev = (rev * 10) + rem\n",
    "        n = n//10\n",
    "    return rev \n",
    "\n",
    "def checkPalindrome(num):\n",
    "    if reverse(num):\n",
    "        return 1\n",
    "    else:\n",
    "        return 0\n",
    "    \n",
    "\tpass\n",
    "\t\t\n",
    "num = int(input())\n",
    "isPalindrome = checkPalindrome(num)\n",
    "if(isPalindrome):\n",
    "\tprint('true')\n",
    "else:\n",
    "\tprint('false')\n"
   ]
  },
  {
   "cell_type": "markdown",
   "metadata": {},
   "source": [
    "### Check Palindrome number or not"
   ]
  },
  {
   "cell_type": "code",
   "execution_count": null,
   "metadata": {},
   "outputs": [],
   "source": [
    "def reverse(n):\n",
    "    rev = 0\n",
    "    while(n >0):\n",
    "        rem = n % 10\n",
    "        rev = (rev * 10) + rem\n",
    "        n = n//10\n",
    "    return rev \n",
    "\n",
    "def checkPalindrome(num):\n",
    "    rev = reverse(num)\n",
    "    if rev == num:\n",
    "        return 1\n",
    "    else:\n",
    "        return 0\n",
    "    \n",
    "\t\t\n",
    "num = int(input())\n",
    "isPalindrome = checkPalindrome(num)\n",
    "if(isPalindrome):\n",
    "\tprint('true')\n",
    "else:\n",
    "\tprint('false')\n"
   ]
  },
  {
   "cell_type": "markdown",
   "metadata": {},
   "source": [
    "### Armstrong number or not"
   ]
  },
  {
   "cell_type": "code",
   "execution_count": null,
   "metadata": {},
   "outputs": [],
   "source": [
    "def armstrong(n):\n",
    "    arm = 0\n",
    "    while n > 0:\n",
    "        rem = n % 10\n",
    "        arm = arm + (rem * rem * rem)\n",
    "        n = n // 10\n",
    "    return arm\n",
    "\n",
    "n = int(input())\n",
    "temp = n\n",
    "x = armstrong(n)\n",
    "if temp == x:\n",
    "    print(\"true\")\n",
    "else:\n",
    "    print(\"false\")"
   ]
  },
  {
   "cell_type": "markdown",
   "metadata": {},
   "source": [
    "### Write a Program to determine if the given number is Armstrong number or not. Print true if number is armstrong, otherwise print false.\n",
    "An Armstrong number is a number (with digits n) such that the sum of its digits raised to nth power is equal to the number itself.\n",
    "For example,\n",
    "371, as 3^3 + 7^3 + 1^3 = 371\n",
    "1634, as 1^4 + 6^4 + 3^4 + 4^4 = 1634\n",
    "Input Format :\n",
    "Integer n\n",
    "Output Format :\n",
    "true or false"
   ]
  },
  {
   "cell_type": "code",
   "execution_count": null,
   "metadata": {},
   "outputs": [],
   "source": [
    "def armstrong(n):\n",
    "    d = 0\n",
    "    temp = n\n",
    "    while temp > 0:\n",
    "        temp = temp // 10\n",
    "        d = d + 1\n",
    "    arm = 0\n",
    "    while n > 0:\n",
    "        rem = n % 10\n",
    "        arm = arm + rem ** d \n",
    "        n = n // 10\n",
    "    return arm\n",
    "\n",
    "n = int(input())\n",
    "temp = n\n",
    "x = armstrong(n)\n",
    "if temp == x:\n",
    "    print(\"true\")\n",
    "else:\n",
    "    print(\"false\")"
   ]
  }
 ],
 "metadata": {
  "kernelspec": {
   "display_name": "Python 3",
   "language": "python",
   "name": "python3"
  }
 },
 "nbformat": 4,
 "nbformat_minor": 2
}
