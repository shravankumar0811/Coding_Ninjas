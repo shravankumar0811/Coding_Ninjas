{
 "cells": [
  {
   "cell_type": "code",
   "execution_count": 6,
   "metadata": {},
   "outputs": [
    {
     "name": "stdout",
     "output_type": "stream",
     "text": [
      "4 4 1 2 3 4 5 6 7 8 9 10 11 12 13 14 15 16\n",
      "1 2 3 4 8 12 16 15 14 13 9 5 6 7 11 10 "
     ]
    }
   ],
   "source": [
    "r=input().split()\n",
    "b=r[2:]\n",
    "l1=[[ int(b[int(r[1])*i+j]) for j in range(int(r[1])) ] for i in range(int(r[0]))]\n",
    "\n",
    "# for i in range(int(r[0])) - refers to i ---> rows  (Number of rows)\n",
    "# for j in range(int(r[1])) - refers to j ---> cols  (Number of cols)\n",
    "# \n",
    "\n",
    "l=[int(i) for i in input().strip().split(' ')]\n",
    "m, n=l[0], l[1]\n",
    "arr = [ [ l[(j*n)+i+2] for i in range(n)] for j in range(m)]\n",
    "spiralPrint(arr)\n",
    "\n",
    " \n",
    "rowstart=0\n",
    "colstart=0\n",
    "rowend=len(l1)-1\n",
    "colend=len(l1[0])-1\n",
    "x=1\n",
    " \n",
    " \n",
    "while(x<=(len(l1)*len(l1[0]))):\n",
    "      for i in range(colstart,colend+1):\n",
    "             print(l1[rowstart][i],end=\" \")\n",
    "             x=x+1\n",
    "      rowstart=rowstart+1\n",
    " \n",
    "      for i in range(rowstart,rowend+1):\n",
    " \n",
    "             print(l1[i][colend],end=\" \")\n",
    "             x=x+1\n",
    "      colend=colend-1\n",
    " \n",
    " \n",
    "      for i in range(colend,colstart-1,-1):\n",
    "              print(l1[rowend][i],end=\" \")\n",
    "              x=x+1\n",
    "      rowend=rowend-1\n",
    " \n",
    " \n",
    "      for i in range(rowend,rowstart-1,-1):\n",
    "              print(l1[i][colstart],end=\" \")\n",
    "              x=x+1\n",
    "      colstart=colstart+1"
   ]
  },
 ],
 "metadata": {
  "kernelspec": {
   "display_name": "Python 3",
   "language": "python",
   "name": "python3"
  },
  "language_info": {
   "codemirror_mode": {
    "name": "ipython",
    "version": 3
   },
   "file_extension": ".py",
   "mimetype": "text/x-python",
   "name": "python",
   "nbconvert_exporter": "python",
   "pygments_lexer": "ipython3",
   "version": "3.7.3"
  }
 },
 "nbformat": 4,
 "nbformat_minor": 2
}
