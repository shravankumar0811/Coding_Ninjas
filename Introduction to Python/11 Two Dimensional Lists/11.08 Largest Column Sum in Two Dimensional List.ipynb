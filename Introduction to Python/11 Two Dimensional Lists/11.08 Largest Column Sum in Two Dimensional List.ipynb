{
 "cells": [
  {
   "cell_type": "markdown",
   "metadata": {},
   "source": [
    "#### len(li) - gives you number of rows\n",
    "#### len(li[0]) - gives you number of columns"
   ]
  },
  {
   "cell_type": "markdown",
   "metadata": {},
   "source": [
    "### Here we're doing vertical iteration. It is possible in 2 ways"
   ]
  },
  {
   "cell_type": "code",
   "execution_count": 6,
   "metadata": {},
   "outputs": [
    {
     "name": "stdout",
     "output_type": "stream",
     "text": [
      "21 3\n"
     ]
    }
   ],
   "source": [
    "def lar_col_sum(li):\n",
    "    n = len(li)\n",
    "    m = len(li[0])\n",
    "    max_sum = -1\n",
    "    max_col_index = -1\n",
    "    for j in range(m):\n",
    "        sum = 0\n",
    "        for i in range(n):\n",
    "            sum += li[i][j]\n",
    "        if sum > max_sum:\n",
    "            max_sum = sum\n",
    "            max_col_index = j\n",
    "    return max_sum, max_col_index\n",
    "\n",
    "li = [[1,2,3,4], [8,7,6,5], [9,10,11,12]]\n",
    "lar_sum, lar_col_index = lar_col_sum(li)\n",
    "print(lar_sum, lar_col_index)"
   ]
  },
  {
   "cell_type": "code",
   "execution_count": 10,
   "metadata": {},
   "outputs": [
    {
     "name": "stdout",
     "output_type": "stream",
     "text": [
      "24 1\n"
     ]
    }
   ],
   "source": [
    "def lar_col_sum(li):\n",
    "    n = len(li)\n",
    "    m = len(li[0])\n",
    "    max_sum = -1\n",
    "    max_col_index = -1\n",
    "    for j in range(m):\n",
    "        sum = 0\n",
    "        for ele in li:\n",
    "            sum += ele[j]\n",
    "        if sum > max_sum:\n",
    "            max_sum = sum\n",
    "            max_col_index = j\n",
    "    return max_sum, max_col_index\n",
    "\n",
    "li = [[1,2,3,4], [8,7,6,5], [9,15,11,12]]\n",
    "lar_sum, lar_col_index = lar_col_sum(li)\n",
    "print(lar_sum, lar_col_index)"
   ]
  },
  {
   "cell_type": "code",
   "execution_count": 19,
   "metadata": {},
   "outputs": [
    {
     "name": "stdout",
     "output_type": "stream",
     "text": [
      "1 5 9 \n",
      "2 6 10 \n",
      "3 7 11 \n",
      "4 8 12 \n"
     ]
    }
   ],
   "source": [
    "#Predict the Output\n",
    "li=[[1,2,3,4],[5,6,7,8],[9,10,11,12]]\n",
    "for i in range(4):\n",
    "    for ele in li:\n",
    "        print(ele[i], end = \" \")\n",
    "    print()"
   ]
  },
  {
   "cell_type": "code",
   "execution_count": 23,
   "metadata": {},
   "outputs": [
    {
     "name": "stdout",
     "output_type": "stream",
     "text": [
      "1 2 3 4 \n",
      "5 6 7 8 \n",
      "9 10 11 12 \n"
     ]
    }
   ],
   "source": [
    "li=[[1,2,3,4],[5,6,7,8],[9,10,11,12]]\n",
    "for i in range(3):\n",
    "    for j in range(4):\n",
    "        print(li[i][j], end = \" \")\n",
    "    print()"
   ]
  },
  {
   "cell_type": "code",
   "execution_count": null,
   "metadata": {},
   "outputs": [],
   "source": []
  }
 ],
 "metadata": {
  "kernelspec": {
   "display_name": "Python 3",
   "language": "python",
   "name": "python3"
  },
  "language_info": {
   "codemirror_mode": {
    "name": "ipython",
    "version": 3
   },
   "file_extension": ".py",
   "mimetype": "text/x-python",
   "name": "python",
   "nbconvert_exporter": "python",
   "pygments_lexer": "ipython3",
   "version": "3.7.3"
  }
 },
 "nbformat": 4,
 "nbformat_minor": 2
}
