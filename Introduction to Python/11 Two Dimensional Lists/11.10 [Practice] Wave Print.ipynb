{
 "cells": [
  {
   "cell_type": "code",
   "execution_count": 5,
   "metadata": {},
   "outputs": [
    {
     "name": "stdout",
     "output_type": "stream",
     "text": [
      "2 3 1 2 3 4 5 6\n",
      "1 4 5 2 3 6 "
     ]
    }
   ],
   "source": [
    "def wavePrint(arr):\n",
    "    m = len(arr)\n",
    "    n = len(arr[0])\n",
    "    for j in range(n):\n",
    "        if j % 2 == 0:\n",
    "            for i in range(m):\n",
    "                print(arr[i][j], end = \" \")\n",
    "        else:\n",
    "            for i in range(m-1, -1, -1):\n",
    "                print(arr[i][j], end = \" \")    \n",
    "            \n",
    "    pass\n",
    "\n",
    "#Main\n",
    "l=[int(i) for i in input().strip().split(' ')]\n",
    "m, n=l[0], l[1]\n",
    "arr = [ [ l[(j*n)+i+2] for i in range(n)] for j in range(m)]\n",
    "wavePrint(arr)\n"
   ]
  },
  {
   "cell_type": "code",
   "execution_count": null,
   "metadata": {},
   "outputs": [],
   "source": []
  }
 ],
 "metadata": {
  "kernelspec": {
   "display_name": "Python 3",
   "language": "python",
   "name": "python3"
  },
  "language_info": {
   "codemirror_mode": {
    "name": "ipython",
    "version": 3
   },
   "file_extension": ".py",
   "mimetype": "text/x-python",
   "name": "python",
   "nbconvert_exporter": "python",
   "pygments_lexer": "ipython3",
   "version": "3.7.3"
  }
 },
 "nbformat": 4,
 "nbformat_minor": 2
}
