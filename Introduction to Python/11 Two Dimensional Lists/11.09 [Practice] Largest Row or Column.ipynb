{
 "cells": [
  {
   "cell_type": "markdown",
   "metadata": {},
   "source": [
    "### Largest Row or Column\n",
    "\n",
    "Given an NxM 2D array, you need to find out which row or column has largest sum (sum of its elements) overall amongst all rows and columns.\n",
    "Input Format :\n",
    "\n",
    " Line 1 : 2 integers N and M respectively, separated by space \n",
    " Line 2: Single line having N*M elements entered in row wise manner, each separated by space.\n",
    "\n",
    "Output Format :\n",
    "\n",
    " If row sum is maximum then - \"row\" row_num max_sum\n",
    " If column sum is maximum then - \"column\" col_num max_sum\n",
    "\n",
    "Note : If there are more than one rows/columns with maximum sum consider the row/column that comes first. And if ith row and jth column has same sum (which is largest), consider the ith row as answer.\n",
    "Sample Input 1 :\n",
    "\n",
    "2 2 \n",
    "1 1 1 1\n",
    "\n",
    "Sample Output 1 :\n",
    "\n",
    "row 0 2\n",
    "\n",
    "Sample Input 2 :\n",
    "\n",
    "3 3\n",
    "3 6 9 1 4 7 2 8 9\n",
    "\n",
    "Sample Output 2 :\n",
    "\n",
    "column 2 25"
   ]
  },
  {
   "cell_type": "code",
   "execution_count": 1,
   "metadata": {},
   "outputs": [
    {
     "name": "stdout",
     "output_type": "stream",
     "text": [
      "3 3 \n",
      "3 6 9 1 4 7 2 8 9\n",
      "column 2 25\n"
     ]
    }
   ],
   "source": [
    "def largestRowCol(arr):\n",
    "    list = []\n",
    "    n = len(arr)\n",
    "    m = len(arr[0])\n",
    "    max1 = -1\n",
    "    index1 = -1\n",
    "    max2 = -1\n",
    "    index2 = -1\n",
    "    for i in range(n):\n",
    "        sum = 0\n",
    "        for j in range(m):\n",
    "            sum = sum + arr[i][j]\n",
    "        if sum > max1:\n",
    "          max1 = sum\n",
    "          index1 = i             \n",
    "    \n",
    "    for j in range(m):\n",
    "        sum1 = 0 \n",
    "        for i in range(n):\n",
    "            sum1 = sum1 + arr[i][j]\n",
    "        if sum1 > max2:\n",
    "          max2 = sum1\n",
    "          index2 = j\n",
    "    \n",
    "    if max1 == max2 and index1 < index2 or max1 > max2:\n",
    "        list.append(\"row\")\n",
    "        list.append(index1)\n",
    "        list.append(max1)    \n",
    "    else: \n",
    "        list.append(\"column\")\n",
    "        list.append(index2)\n",
    "        list.append(max2)\n",
    "\n",
    "    return list\n",
    "\n",
    "#Main\n",
    "m, n=(int(i) for i in input().strip().split(' '))\n",
    "l=[int(i) for i in input().strip().split(' ')]\n",
    "arr = [ [ l[(j*n)+i] for i in range(n)] for j in range(m)]\n",
    "l=largestRowCol(arr)\n",
    "print(*l)\n"
   ]
  },
  {
   "cell_type": "code",
   "execution_count": null,
   "metadata": {},
   "outputs": [],
   "source": []
  }
 ],
 "metadata": {
  "kernelspec": {
   "display_name": "Python 3",
   "language": "python",
   "name": "python3"
  },
  "language_info": {
   "codemirror_mode": {
    "name": "ipython",
    "version": 3
   },
   "file_extension": ".py",
   "mimetype": "text/x-python",
   "name": "python",
   "nbconvert_exporter": "python",
   "pygments_lexer": "ipython3",
   "version": "3.7.3"
  }
 },
 "nbformat": 4,
 "nbformat_minor": 2
}
