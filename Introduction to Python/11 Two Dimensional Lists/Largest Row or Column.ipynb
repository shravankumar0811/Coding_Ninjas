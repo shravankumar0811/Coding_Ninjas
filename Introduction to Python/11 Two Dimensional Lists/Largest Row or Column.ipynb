{
 "cells": [
  {
   "cell_type": "code",
   "execution_count": null,
   "metadata": {},
   "outputs": [],
   "source": [
    "Largest Row or Column\n",
    "-----------------------------------\n",
    "Given an NxM 2D array, you need to find out which row or column has largest sum (sum of its elements) overall amongst all rows and columns.\n",
    "Input Format :\n",
    " Line 1 : 2 integers N and M respectively, separated by space \n",
    " Line 2: Single line having N*M elements entered in row wise manner, each separated by space.\n",
    "Output Format :\n",
    " If row sum is maximum then - \"row\" row_num max_sum\n",
    " If column sum is maximum then - \"column\" col_num max_sum\n",
    "Constraints :\n",
    "0 <= N <= 10^4\n",
    "0 <= M <= 10^4\n",
    "Note : If there are more than one rows/columns with maximum sum consider the row/column that comes first. And if ith row and jth column has same sum (which is largest), consider the ith row as answer.\n",
    "Sample Input 1 :\n",
    "2 2 \n",
    "1 1 1 1\n",
    "Sample Output 1 :\n",
    "row 0 2"
   ]
  },
  {
   "cell_type": "code",
   "execution_count": 1,
   "metadata": {},
   "outputs": [
    {
     "name": "stdout",
     "output_type": "stream",
     "text": [
      "2 2\n",
      "1 1 1 1\n",
      "row 0 2\n"
     ]
    }
   ],
   "source": [
    "def largestRowCol(arr):\n",
    "    rows = len(arr) \n",
    "    cols = len(arr[0])\n",
    "    sumRow = [0] * rows\n",
    "    sumCol = [0] * cols \n",
    "    for i in range(rows):\n",
    "        for j in range(cols): \n",
    "            sumRow[i] += arr[i][j]\n",
    "            sumCol[j] += arr[i][j] # Assume row 0 has maximum sum \n",
    "    l = ['row', 0, sumRow[0]]\n",
    "    for i in range(rows):\n",
    "        if sumRow[i] > l[2]:\n",
    "            l[2] = sumRow[i] \n",
    "            l[1] = i\n",
    "    for j in range(cols):\n",
    "        if sumCol[j] > l[2]:\n",
    "            l[2] = sumCol[j] \n",
    "            l[1] = j \n",
    "            l[0] = 'column' \n",
    "    return l\n",
    "\n",
    "m, n=(int(i) for i in input().strip().split(' ')) \n",
    "l=[int(i) for i in input().strip().split(' ')]\n",
    "arr = [ [ l[(j*n)+i] for i in range(n)] for j in range(m)] \n",
    "l=largestRowCol(arr) \n",
    "print(*l)"
   ]
  }
 ],
 "metadata": {
  "kernelspec": {
   "display_name": "Python 3",
   "language": "python",
   "name": "python3"
  },
  "language_info": {
   "codemirror_mode": {
    "name": "ipython",
    "version": 3
   },
   "file_extension": ".py",
   "mimetype": "text/x-python",
   "name": "python",
   "nbconvert_exporter": "python",
   "pygments_lexer": "ipython3",
   "version": "3.7.6"
  }
 },
 "nbformat": 4,
 "nbformat_minor": 4
}
