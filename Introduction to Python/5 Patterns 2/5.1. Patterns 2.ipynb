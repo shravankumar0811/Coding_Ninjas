{
 "cells": [
  {
   "cell_type": "markdown",
   "metadata": {},
   "source": [
    "    *\n",
    "   **\n",
    "  ***\n",
    " ****\n",
    "*****"
   ]
  },
  {
   "cell_type": "code",
   "execution_count": 3,
   "metadata": {},
   "outputs": [
    {
     "name": "stdout",
     "output_type": "stream",
     "text": [
      "5\n",
      "    *\n",
      "   **\n",
      "  ***\n",
      " ****\n",
      "*****\n"
     ]
    }
   ],
   "source": [
    "n = int(input())\n",
    "i = 1\n",
    "while i <= n:\n",
    "    spaces = 1\n",
    "    while spaces <= n-i:\n",
    "        print(\" \", end = '')\n",
    "        spaces = spaces + 1\n",
    "    stars = 1\n",
    "    while stars <= i:\n",
    "        print('*', end = '')\n",
    "        stars = stars + 1\n",
    "    print()\n",
    "    i = i + 1       "
   ]
  },
  {
   "cell_type": "markdown",
   "metadata": {},
   "source": [
    "Right Angled Triangle\n",
    "    1\n",
    "   12\n",
    "  123\n",
    " 1234\n",
    "12345 "
   ]
  },
  {
   "cell_type": "code",
   "execution_count": 22,
   "metadata": {},
   "outputs": [
    {
     "name": "stdout",
     "output_type": "stream",
     "text": [
      "5\n",
      "    1\n",
      "   12\n",
      "  123\n",
      " 1234\n",
      "12345\n"
     ]
    }
   ],
   "source": [
    "n = int(input())\n",
    "i = 1\n",
    "while i <= n:\n",
    "    spaces = 1\n",
    "    while spaces <= n-i:\n",
    "        print(\" \", end = '')\n",
    "        spaces = spaces + 1\n",
    "    inc_num = 1\n",
    "    while inc_num <= i:\n",
    "        print(inc_num, end = '')\n",
    "        inc_num = inc_num + 1\n",
    "    print()\n",
    "    i = i + 1\n",
    "        \n",
    "    "
   ]
  },
  {
   "cell_type": "markdown",
   "metadata": {},
   "source": [
    "Double Triangle\n",
    "    1\n",
    "   121\n",
    "  12321\n",
    " 1234321\n",
    "123454321 "
   ]
  },
  {
   "cell_type": "code",
   "execution_count": 23,
   "metadata": {},
   "outputs": [
    {
     "name": "stdout",
     "output_type": "stream",
     "text": [
      "5\n",
      "    1\n",
      "   121\n",
      "  12321\n",
      " 1234321\n",
      "123454321\n"
     ]
    }
   ],
   "source": [
    "n = int(input())\n",
    "i = 1\n",
    "while i <= n:\n",
    "    spaces = 1\n",
    "    while spaces <= n-i:\n",
    "        print(\" \", end = '')\n",
    "        spaces = spaces + 1\n",
    "    inc_num = 1\n",
    "    while inc_num <= i:\n",
    "        print(inc_num, end = '')\n",
    "        inc_num = inc_num + 1\n",
    "    dec_num = inc_num - 2\n",
    "    while dec_num > 0:\n",
    "        print(dec_num, end = '')\n",
    "        dec_num = dec_num - 1\n",
    "    print()\n",
    "    i = i + 1\n",
    "        \n",
    "    "
   ]
  },
  {
   "cell_type": "code",
   "execution_count": null,
   "metadata": {},
   "outputs": [],
   "source": []
  }
 ],
 "metadata": {
  "kernelspec": {
   "display_name": "Python 3",
   "language": "python",
   "name": "python3"
  },
  "language_info": {
   "codemirror_mode": {
    "name": "ipython",
    "version": 3
   },
   "file_extension": ".py",
   "mimetype": "text/x-python",
   "name": "python",
   "nbconvert_exporter": "python",
   "pygments_lexer": "ipython3",
   "version": "3.7.3"
  }
 },
 "nbformat": 4,
 "nbformat_minor": 2
}
