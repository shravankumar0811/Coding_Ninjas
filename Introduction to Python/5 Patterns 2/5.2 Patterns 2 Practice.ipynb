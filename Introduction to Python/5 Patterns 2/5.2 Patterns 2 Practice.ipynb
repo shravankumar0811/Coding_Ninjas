{
 "cells": [
  {
   "cell_type": "markdown",
   "metadata": {},
   "source": [
    "1        1\n",
    "12      21\n",
    "123    321\n",
    "1234  4321\n",
    "1234554321"
   ]
  },
  {
   "cell_type": "code",
   "execution_count": 6,
   "metadata": {},
   "outputs": [
    {
     "name": "stdout",
     "output_type": "stream",
     "text": [
      "5\n",
      "1        1\n",
      "12      21\n",
      "123    321\n",
      "1234  4321\n",
      "1234554321\n"
     ]
    }
   ],
   "source": [
    "n = int(input())\n",
    "i = 1\n",
    "while i <= n:\n",
    "   spaces = 1\n",
    "   start = 1\n",
    "   while start <= i:\n",
    "       print(start, end = '')\n",
    "       start = start + 1\n",
    "   while spaces <= ((2*n) - (2*i)):\n",
    "       print(' ', end = '')\n",
    "       spaces = spaces + 1\n",
    "   end = i\n",
    "   while end > 0:\n",
    "       print(end,  end = '')\n",
    "       end = end - 1\n",
    "   \n",
    "   print()\n",
    "   i = i + 1"
   ]
  },
  {
   "cell_type": "markdown",
   "metadata": {},
   "source": [
    "For n = 4\n",
    "\n",
    "*000*000*\n",
    "0*00*00*0\n",
    "00*0*0*00\n",
    "000***000"
   ]
  },
  {
   "cell_type": "code",
   "execution_count": 40,
   "metadata": {},
   "outputs": [
    {
     "name": "stdout",
     "output_type": "stream",
     "text": [
      "4\n",
      "*000*000*\n",
      "0*00*00*0\n",
      "00*0*0*00\n",
      "000***000\n"
     ]
    }
   ],
   "source": [
    "n = int(input())\n",
    "i = 1\n",
    "star = 1\n",
    "while i<=n:\n",
    "    j = 1\n",
    "    while j <= 2*n + 1:\n",
    "        if star == i and star == j:\n",
    "            print('*', end = \"\")\n",
    "            star = star + 1\n",
    "        elif j == n + 1 or j == 2*n+2 - i:\n",
    "            print('*', end = \"\")\n",
    "        else:\n",
    "            print(0, end = \"\")\n",
    "        j = j + 1\n",
    "    print()\n",
    "    i = i + 1"
   ]
  },
  {
   "cell_type": "markdown",
   "metadata": {},
   "source": [
    "   1\n",
    "  212\n",
    " 32123\n",
    "4321234\n",
    "\n",
    "First try to divide the problem in parts: \n",
    "   1\n",
    "  21\n",
    " 321\n",
    "4321"
   ]
  },
  {
   "cell_type": "code",
   "execution_count": 58,
   "metadata": {},
   "outputs": [
    {
     "name": "stdout",
     "output_type": "stream",
     "text": [
      "4\n",
      "   1\n",
      "  21\n",
      " 321\n",
      "4321\n"
     ]
    }
   ],
   "source": [
    "n = int(input())\n",
    "i = 1\n",
    "while i <= n:\n",
    "    spaces = 1\n",
    "    while spaces <= n-i:\n",
    "        print(\" \", end = '')\n",
    "        spaces = spaces + 1\n",
    "    dec_num = i\n",
    "    while dec_num > 0:\n",
    "        print(dec_num, end = '')\n",
    "        dec_num = dec_num - 1     \n",
    "    print()\n",
    "    i = i + 1\n",
    "        \n",
    "    "
   ]
  },
  {
   "cell_type": "markdown",
   "metadata": {},
   "source": [
    "Now, mirror the other part\n",
    "\n",
    "   1\n",
    "  212\n",
    " 32123\n",
    "4321234"
   ]
  },
  {
   "cell_type": "code",
   "execution_count": 60,
   "metadata": {},
   "outputs": [
    {
     "name": "stdout",
     "output_type": "stream",
     "text": [
      "4\n",
      "   1\n",
      "  212\n",
      " 32123\n",
      "4321234\n"
     ]
    }
   ],
   "source": [
    "n = int(input())\n",
    "i = 1\n",
    "while i <= n:\n",
    "    spaces = 1\n",
    "    while spaces <= n-i:\n",
    "        print(\" \", end = '')\n",
    "        spaces = spaces + 1\n",
    "    dec_num = i\n",
    "    while dec_num > 0:\n",
    "        print(dec_num, end = '')\n",
    "        dec_num = dec_num - 1\n",
    "    inc_num = 2\n",
    "    while inc_num <= i:\n",
    "        print(inc_num, end = '')\n",
    "        inc_num = inc_num + 1\n",
    "        \n",
    "    print()\n",
    "    i = i + 1\n",
    "        \n",
    "    "
   ]
  },
  {
   "cell_type": "markdown",
   "metadata": {},
   "source": [
    "Note: There is a space after every star [Use print('*', end = ' ')]\n",
    "\n",
    "If N = 7\n",
    "\n",
    "*\n",
    " * *\n",
    "   * * *\n",
    "     * * * *\n",
    "   * * *\n",
    " * *\n",
    "*\n"
   ]
  },
  {
   "cell_type": "code",
   "execution_count": null,
   "metadata": {},
   "outputs": [],
   "source": [
    "n = int(input())\n",
    "i = 1\n",
    "while i <= n/2 + 1:\n",
    "    spaces = 1\n",
    "    while spaces < i:\n",
    "        print(\" \", end = '')\n",
    "        spaces = spaces + 1\n",
    "    j = 1    \n",
    "    while j <= i:\n",
    "        print('*', end = ' ')\n",
    "        j = j + 1\n",
    "    print()\n",
    "    i = i + 1\n",
    "\n",
    "while i > n/2 + 1 and i <= n:\n",
    "    spaces = n - i\n",
    "    while spaces > 0: \n",
    "        print(\" \", end = '')\n",
    "        spaces = spaces - 1      \n",
    "    j = 1    \n",
    "    while j <= n-i+1:\n",
    "        print('*', end = ' ')\n",
    "        j = j + 1\n",
    "    print()\n",
    "    i = i + 1\n",
    "  \n"
   ]
  },
  {
   "cell_type": "code",
   "execution_count": null,
   "metadata": {},
   "outputs": [],
   "source": [
    "2+3\n"
   ]
  }
 ],
 "metadata": {
  "kernelspec": {
   "display_name": "Python 3",
   "language": "python",
   "name": "python3"
  },
  "language_info": {
   "codemirror_mode": {
    "name": "ipython",
    "version": 3
   },
   "file_extension": ".py",
   "mimetype": "text/x-python",
   "name": "python",
   "nbconvert_exporter": "python",
   "pygments_lexer": "ipython3",
   "version": "3.7.3"
  }
 },
 "nbformat": 4,
 "nbformat_minor": 2
}
