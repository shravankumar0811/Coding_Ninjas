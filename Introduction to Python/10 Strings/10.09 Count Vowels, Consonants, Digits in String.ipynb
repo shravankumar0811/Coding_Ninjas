{
 "cells": [
  {
   "cell_type": "markdown",
   "metadata": {},
   "source": [
    "### Count number of vowels, consonants, digits and special characters in string"
   ]
  },
  {
   "cell_type": "markdown",
   "metadata": {},
   "source": [
    "vowels are a,e,i,o,u and A,E,I,O,U"
   ]
  },
  {
   "cell_type": "code",
   "execution_count": 1,
   "metadata": {},
   "outputs": [
    {
     "name": "stdout",
     "output_type": "stream",
     "text": [
      "2 14 6 10\n"
     ]
    }
   ],
   "source": [
    "# Here you can also see how to return multiple values through functions\n",
    "def countInString(str):\n",
    "    v,c,d,s = 0,0,0,0\n",
    "    for char in str:\n",
    "        \n",
    "        if((char >= 'a' and char <= 'z') or (char >= 'A' and char <= 'Z')):\n",
    "            char = char.lower()\n",
    "            if(char == 'a' or char == 'e' or char == 'i' or char == 'o' or char == 'u'):\n",
    "                v += 1\n",
    "            else:\n",
    "                c += 1\n",
    "        elif char >= '0' and char <= '9':\n",
    "            d += 1\n",
    "        else:\n",
    "            s += 1\n",
    "    return v,c,d,s\n",
    "            \n",
    "    \n",
    "\n",
    "str = \"kladhsfklj0934u90*&%^&*^*l(dsjf)\"\n",
    "\n",
    "v,c,d,s = countInString(str)\n",
    "print(v,c,d,s)"
   ]
  }
 ],
 "metadata": {
  "kernelspec": {
   "display_name": "Python 3",
   "language": "python",
   "name": "python3"
  },
  "language_info": {
   "codemirror_mode": {
    "name": "ipython",
    "version": 3
   },
   "file_extension": ".py",
   "mimetype": "text/x-python",
   "name": "python",
   "nbconvert_exporter": "python",
   "pygments_lexer": "ipython3",
   "version": "3.7.3"
  }
 },
 "nbformat": 4,
 "nbformat_minor": 2
}
