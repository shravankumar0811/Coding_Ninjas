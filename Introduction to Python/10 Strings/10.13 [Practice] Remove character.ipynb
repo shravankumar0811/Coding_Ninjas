{
 "cells": [
  {
   "cell_type": "markdown",
   "metadata": {},
   "source": [
    "Given a string and a character x. Write a function to remove all occurrences of x character from the given string.\n",
    "Leave the string as it is, if the given character is not present in the string.\n",
    "\n",
    "Input format :\n",
    "\n",
    "Line 1 : Input string\n",
    "\n",
    "Line 2 : Character x\n",
    "Sample Input :\n",
    "\n",
    "welcome to coding ninjas\n",
    "o\n",
    "\n",
    "Sample Output :\n",
    "\n",
    "welcme t cding ninjas\n",
    "\n"
   ]
  },
  {
   "cell_type": "code",
   "execution_count": null,
   "metadata": {},
   "outputs": [],
   "source": [
    "str = input()\n",
    "x = input()\n",
    "list = str.split(x)\n",
    "for ele in list:\n",
    "    print(ele, end = '')\n"
   ]
  },
 ],
 "metadata": {
  "kernelspec": {
   "display_name": "Python 3",
   "language": "python",
   "name": "python3"
  },
  "language_info": {
   "codemirror_mode": {
    "name": "ipython",
    "version": 3
   },
   "file_extension": ".py",
   "mimetype": "text/x-python",
   "name": "python",
   "nbconvert_exporter": "python",
   "pygments_lexer": "ipython3",
   "version": "3.7.3"
  }
 },
 "nbformat": 4,
 "nbformat_minor": 2
}
