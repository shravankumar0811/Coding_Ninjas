{
 "cells": [
  {
   "cell_type": "markdown",
   "metadata": {},
   "source": [
    "### Check if both the strings are having same characters, order may be different"
   ]
  },
  {
   "cell_type": "code",
   "execution_count": 11,
   "metadata": {},
   "outputs": [
    {
     "name": "stdout",
     "output_type": "stream",
     "text": [
      "abcd\n",
      "dcba\n",
      "true\n"
     ]
    }
   ],
   "source": [
    "#Using count array\n",
    "str1 = input()\n",
    "str2 = input()\n",
    "count1 = []\n",
    "count2 = []\n",
    "\n",
    "num1 = 26\n",
    "while num1:\n",
    "    count1.append(0)\n",
    "    num1 -= 1\n",
    "    \n",
    "num2 = 26\n",
    "while num2:\n",
    "    count2.append(0)\n",
    "    num2 -= 1\n",
    "\n",
    "def checkLength(str1,str2):\n",
    "    if len(str1) != len(str2):\n",
    "        return 0\n",
    "    else:\n",
    "        return 1\n",
    "    \n",
    "def permutation1(str):\n",
    "    for i in str:\n",
    "        ascii = ord(i)\n",
    "        count1[ascii % 97] += 1\n",
    "    return count1\n",
    "\n",
    "def permutation2(str):\n",
    "    for i in str:\n",
    "        ascii = ord(i)\n",
    "        count2[ascii % 97] += 1\n",
    "    return count2\n",
    "\n",
    "if checkLength(str1, str2):\n",
    "    list1 = permutation1(str1)   \n",
    "    list2 = permutation2(str2)\n",
    " \n",
    "    flag = True\n",
    "    for i in range(0, 26):\n",
    "        if list1[i] != list2[i]:\n",
    "            flag = False\n",
    "    if flag == False:\n",
    "        print(\"false\")\n",
    "    else:\n",
    "        print(\"true\")\n",
    "    \n",
    "else:\n",
    "    print(\"false\")\n",
    "        \n",
    "\n",
    "    "
   ]
  },
  {
   "cell_type": "code",
   "execution_count": 5,
   "metadata": {},
   "outputs": [
    {
     "name": "stdout",
     "output_type": "stream",
     "text": [
      "abc\n",
      "bca\n",
      "bca\n",
      "False\n"
     ]
    }
   ],
   "source": [
    "str1 = input()\n",
    "str2 = input()\n",
    "str3 = str2.replace(str1, '1')\n",
    "print(str3)\n",
    "if str3 == 1:\n",
    "    print(\"True\")\n",
    "else:\n",
    "    print(\"False\")\n"
   ]
  }
 ],
 "metadata": {
  "kernelspec": {
   "display_name": "Python 3",
   "language": "python",
   "name": "python3"
  },
  "language_info": {
   "codemirror_mode": {
    "name": "ipython",
    "version": 3
   },
   "file_extension": ".py",
   "mimetype": "text/x-python",
   "name": "python",
   "nbconvert_exporter": "python",
   "pygments_lexer": "ipython3",
   "version": "3.7.3"
  }
 },
 "nbformat": 4,
 "nbformat_minor": 2
}
