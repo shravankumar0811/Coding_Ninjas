{
 "cells": [
  {
   "cell_type": "markdown",
   "metadata": {},
   "source": [
    "Write a program to do basic string compression. For a character which is consecutively repeated more than once, replace consecutive duplicate occurrences with the count of repetitions.\n",
    "For e.g. if a String has 'x' repeated 5 times, replace this \"xxxxx\" with \"x5\".\n",
    "Note : Consecutive count of every character in input string is less than equal to 9.\n",
    "Input Format :\n",
    "\n",
    "Input string S\n",
    "\n",
    "Output Format :\n",
    "\n",
    "Compressed string \n",
    "\n",
    "Sample Input:\n",
    "\n",
    "aaabbccdsa\n",
    "\n",
    "Sample Output:\n",
    "\n",
    "a3b2c2dsa\n",
    "\n"
   ]
  },
  {
   "cell_type": "code",
   "execution_count": 8,
   "metadata": {},
   "outputs": [
    {
     "name": "stdout",
     "output_type": "stream",
     "text": [
      "asssdddddddfffffjkkk\n",
      "as3d7f5jk3"
     ]
    }
   ],
   "source": [
    "str = input()\n",
    "str1 = []\n",
    "count = 0\n",
    "for i in range(0, len(str)-1):\n",
    "    if str[i] == str[i+1]:\n",
    "        count += 1\n",
    "    elif str[i] != str[i+1] and count > 0:\n",
    "        str1.append(str[i])\n",
    "        str1.append(count+1)\n",
    "        count = 0\n",
    "    else:\n",
    "        str1.append(str[i])\n",
    "str1.append(str[i+1])\n",
    "if count > 0:\n",
    "    str1.append(count+1)\n",
    "    \n",
    "for ele in str1:\n",
    "    print(ele, end = '')"
   ]
  },
 ],
 "metadata": {
  "kernelspec": {
   "display_name": "Python 3",
   "language": "python",
   "name": "python3"
  },
  "language_info": {
   "codemirror_mode": {
    "name": "ipython",
    "version": 3
   },
   "file_extension": ".py",
   "mimetype": "text/x-python",
   "name": "python",
   "nbconvert_exporter": "python",
   "pygments_lexer": "ipython3",
   "version": "3.7.3"
  }
 },
 "nbformat": 4,
 "nbformat_minor": 2
}
