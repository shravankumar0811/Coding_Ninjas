{
 "cells": [
  {
   "cell_type": "code",
   "execution_count": 8,
   "metadata": {},
   "outputs": [
    {
     "name": "stdout",
     "output_type": "stream",
     "text": [
      "aavvdded\n",
      "avded"
     ]
    }
   ],
   "source": [
    "str = input()\n",
    "str1 = []\n",
    "count = 0\n",
    "for i in range(0, len(str)-1):\n",
    "    \n",
    "    if str[i] == str[i+1]:\n",
    "        count += 1\n",
    "    elif str[i] != str[i+1] and count > 0:\n",
    "        str1.append(str[i])\n",
    "        count = 0\n",
    "    else:\n",
    "        str1.append(str[i])\n",
    "str1.append(str[i+1])\n",
    "    \n",
    "for ele in str1:\n",
    "    print(ele, end = '')"
   ]
  },
 ],
 "metadata": {
  "kernelspec": {
   "display_name": "Python 3",
   "language": "python",
   "name": "python3"
  },
  "language_info": {
   "codemirror_mode": {
    "name": "ipython",
    "version": 3
   },
   "file_extension": ".py",
   "mimetype": "text/x-python",
   "name": "python",
   "nbconvert_exporter": "python",
   "pygments_lexer": "ipython3",
   "version": "3.7.3"
  }
 },
 "nbformat": 4,
 "nbformat_minor": 2
}
