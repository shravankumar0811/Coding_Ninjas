{
 "cells": [
  {
   "cell_type": "code",
   "execution_count": null,
   "metadata": {},
   "outputs": [],
   "source": [
    "Check Permutation\n",
    "--------------------\n",
    "Given two strings, S and T, check if they are permutations of each other. Return true or false.\n",
    "Permutation means - length of both the strings should same and should contain same set of characters. Order of characters doesn't matter.\n",
    "Note : Input strings contain only lowercase english alphabets.\n",
    "\n",
    "\n",
    "Input format :\n",
    "Line 1 : String 1\n",
    "Line 2 : String 2\n",
    "Output format :\n",
    "'true' or 'false'\n",
    "Constraints :\n",
    "0 <= |S| <= 10^7\n",
    "0 <= |T| <= 10^7\n",
    "where |S| represents the length of string, S.\n",
    "Sample Input 1 :\n",
    "abcde\n",
    "baedc\n",
    "Sample Output 1 :\n",
    "true"
   ]
  },
  {
   "cell_type": "code",
   "execution_count": 1,
   "metadata": {},
   "outputs": [
    {
     "name": "stdout",
     "output_type": "stream",
     "text": [
      "abcde\n",
      "baedc\n",
      "true\n"
     ]
    }
   ],
   "source": [
    "def arePermutation(str1, str2):\n",
    "    \n",
    "    n1 = len(str1) \n",
    "    n2 = len(str2)\n",
    "    if (n1 != n2):\n",
    "        return False\n",
    "  \n",
    "    # Sort both strings \n",
    "    a = sorted(str1) \n",
    "    str1 = \"\".join(a) \n",
    "    b = sorted(str2) \n",
    "    str2 = \"\".join(b) \n",
    "  \n",
    "    # Compare sorted strings \n",
    "    for i in range(0, n1, 1): \n",
    "        if (str1[i] != str2[i]): \n",
    "            return False\n",
    "  \n",
    "    return True\n",
    "  \n",
    "str1 = input()\n",
    "str2 = input()\n",
    "if (arePermutation(str1, str2)):\n",
    "    print(\"true\") \n",
    "else: \n",
    "    print(\"false\") "
   ]
  }
 ],
 "metadata": {
  "kernelspec": {
   "display_name": "Python 3",
   "language": "python",
   "name": "python3"
  },
  "language_info": {
   "codemirror_mode": {
    "name": "ipython",
    "version": 3
   },
   "file_extension": ".py",
   "mimetype": "text/x-python",
   "name": "python",
   "nbconvert_exporter": "python",
   "pygments_lexer": "ipython3",
   "version": "3.7.6"
  }
 },
 "nbformat": 4,
 "nbformat_minor": 4
}
