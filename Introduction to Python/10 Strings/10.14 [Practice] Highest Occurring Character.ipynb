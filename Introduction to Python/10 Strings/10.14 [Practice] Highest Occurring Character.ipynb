{
 "cells": [
  {
   "cell_type": "markdown",
   "metadata": {},
   "source": [
    "Given a string, find and return the highest occurring character present in the given string.\n",
    "If there are 2 characters in the input string with same frequency, return the character which comes first.\n",
    "Note : Assume all the characters in the given string are lowercase.\n",
    "Sample Input 1:\n",
    "\n",
    "abdefgbabfba\n",
    "\n",
    "Sample Output 1:\n",
    "\n",
    "b\n",
    "\n",
    "Sample Input 2:\n",
    "\n",
    "xy\n",
    "\n",
    "Sample Output 2:\n",
    "\n",
    "x\n"
   ]
  },
  {
   "cell_type": "code",
   "execution_count": 4,
   "metadata": {},
   "outputs": [
    {
     "name": "stdout",
     "output_type": "stream",
     "text": [
      "xy\n",
      "x\n"
     ]
    }
   ],
   "source": [
    "str = input()\n",
    "#Using count array\n",
    "count = []\n",
    "\n",
    "num = 26\n",
    "while num:\n",
    "    count.append(0)\n",
    "    num -= 1\n",
    "max = 0\n",
    "char = ''\n",
    "for i in str:\n",
    "    ascii = ord(i)\n",
    "    count[ascii % 97] += 1\n",
    "    if count[ascii % 97] > max:\n",
    "        max = count[ascii % 97]\n",
    "        char = i\n",
    "    \n",
    "print(char)\n"
   ]
  },
 ],
 "metadata": {
  "kernelspec": {
   "display_name": "Python 3",
   "language": "python",
   "name": "python3"
  },
  "language_info": {
   "codemirror_mode": {
    "name": "ipython",
    "version": 3
   },
   "file_extension": ".py",
   "mimetype": "text/x-python",
   "name": "python",
   "nbconvert_exporter": "python",
   "pygments_lexer": "ipython3",
   "version": "3.7.3"
  }
 },
 "nbformat": 4,
 "nbformat_minor": 2
}
