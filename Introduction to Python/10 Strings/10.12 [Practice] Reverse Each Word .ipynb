{
 "cells": [
  {
   "cell_type": "code",
   "execution_count": 12,
   "metadata": {},
   "outputs": [
    {
     "name": "stdout",
     "output_type": "stream",
     "text": [
      "Welcome to Coding Ninjas\n",
      "emocleW ot gnidoC sajniN "
     ]
    }
   ],
   "source": [
    "str = input().split()\n",
    "words = len(str)\n",
    "\n",
    "def reverse(s):\n",
    "    print(s[::-1], end = \" \")\n",
    "\n",
    "for i in range(0, words):\n",
    "    reverse(str[i])\n"
   ]
  },
 ],
 "metadata": {
  "kernelspec": {
   "display_name": "Python 3",
   "language": "python",
   "name": "python3"
  },
  "language_info": {
   "codemirror_mode": {
    "name": "ipython",
    "version": 3
   },
   "file_extension": ".py",
   "mimetype": "text/x-python",
   "name": "python",
   "nbconvert_exporter": "python",
   "pygments_lexer": "ipython3",
   "version": "3.7.3"
  }
 },
 "nbformat": 4,
 "nbformat_minor": 2
}
