{
 "cells": [
  {
   "cell_type": "code",
   "execution_count": 1,
   "metadata": {},
   "outputs": [
    {
     "name": "stdout",
     "output_type": "stream",
     "text": [
      "5\n",
      "1\n",
      "11\n",
      "121\n",
      "1221\n",
      "12221\n"
     ]
    }
   ],
   "source": [
    "n=int(input())\n",
    "print(1)\n",
    "i=1\n",
    "while(i<n):\n",
    "    j=0\n",
    "    while(j<i+1):\n",
    "        if(j==0 or j==i):\n",
    "            print(1,end=\"\")\n",
    "        else:\n",
    "            print(2,end=\"\")\n",
    "        j=j+1\n",
    "    i=i+1\n",
    "    print()"
   ]
  }
 ],
 "metadata": {
  "kernelspec": {
   "display_name": "Python 3",
   "language": "python",
   "name": "python3"
  },
  "language_info": {
   "codemirror_mode": {
    "name": "ipython",
    "version": 3
   },
   "file_extension": ".py",
   "mimetype": "text/x-python",
   "name": "python",
   "nbconvert_exporter": "python",
   "pygments_lexer": "ipython3",
   "version": "3.7.6"
  }
 },
 "nbformat": 4,
 "nbformat_minor": 4
}
