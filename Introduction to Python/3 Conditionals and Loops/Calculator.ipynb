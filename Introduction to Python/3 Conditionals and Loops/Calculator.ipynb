{
 "cells": [
  {
   "cell_type": "code",
   "execution_count": null,
   "metadata": {},
   "outputs": [
    {
     "name": "stdout",
     "output_type": "stream",
     "text": [
      "3\n",
      "1\n",
      "2\n",
      "2\n",
      "4\n",
      "4\n",
      "2\n",
      "2\n",
      "1\n",
      "3\n",
      "2\n",
      "5\n",
      "7\n",
      "Invalid Operation\n"
     ]
    }
   ],
   "source": [
    "n=int(input())\n",
    "while n!=6:\n",
    "    if n <= 5 and n >= 1:\n",
    "        a=int(input())\n",
    "        b=int(input())\n",
    "    if n==1:\n",
    "        print(a+b)\n",
    "    if n==2:\n",
    "        print(a-b)\n",
    "    if n==3:\n",
    "        print(a*2)\n",
    "    if n==4:\n",
    "        print(a//b)\n",
    "    if n==5:\n",
    "        print(a%b)\n",
    "    elif n < 1 or n > 6:\n",
    "        print(\"Invalid Operation\")\n",
    "    n=int(input())"
   ]
  },
  {
   "cell_type": "code",
   "execution_count": null,
   "metadata": {},
   "outputs": [],
   "source": []
  }
 ],
 "metadata": {
  "kernelspec": {
   "display_name": "Python 3",
   "language": "python",
   "name": "python3"
  },
  "language_info": {
   "codemirror_mode": {
    "name": "ipython",
    "version": 3
   },
   "file_extension": ".py",
   "mimetype": "text/x-python",
   "name": "python",
   "nbconvert_exporter": "python",
   "pygments_lexer": "ipython3",
   "version": "3.7.6"
  }
 },
 "nbformat": 4,
 "nbformat_minor": 4
}
