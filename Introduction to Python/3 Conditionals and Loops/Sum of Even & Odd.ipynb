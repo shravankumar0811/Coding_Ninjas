{
 "cells": [
  {
   "cell_type": "code",
   "execution_count": null,
   "metadata": {},
   "outputs": [],
   "source": [
    "Number=int(input())\n",
    "even=0\n",
    "odd=0\n",
    "while(Number>0):\n",
    "    Reminder = Number %10\n",
    "    if(Reminder % 2 == 0):\n",
    "        even=even + Reminder\n",
    "    else:\n",
    "        odd= odd + Reminder\n",
    "    Number = Number //10\n",
    "print(even,\"\",odd)\n"
   ]
  }
 ],
 "metadata": {
  "kernelspec": {
   "display_name": "Python 3",
   "language": "python",
   "name": "python3"
  },
  "language_info": {
   "codemirror_mode": {
    "name": "ipython",
    "version": 3
   },
   "file_extension": ".py",
   "mimetype": "text/x-python",
   "name": "python",
   "nbconvert_exporter": "python",
   "pygments_lexer": "ipython3",
   "version": "3.7.6"
  }
 },
 "nbformat": 4,
 "nbformat_minor": 4
}
