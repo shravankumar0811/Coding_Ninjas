{
 "cells": [
  {
   "cell_type": "code",
   "execution_count": 1,
   "metadata": {},
   "outputs": [
    {
     "name": "stdout",
     "output_type": "stream",
     "text": [
      "baba malik hussain\n",
      "abab kilam niassuh\n"
     ]
    }
   ],
   "source": [
    "def reverseword(s): \n",
    "   \n",
    "   w = s.split(\" \")        \n",
    "                           \n",
    "   nw= [i[::-1] for i in w]\n",
    "                          \n",
    "   ns = \" \".join(nw)\n",
    "   return ns\n",
    "# Driver's Code \n",
    "s = input()\n",
    "print(reverseword(s))"
   ]
  }
 ],
 "metadata": {
  "kernelspec": {
   "display_name": "Python 3",
   "language": "python",
   "name": "python3"
  },
  "language_info": {
   "codemirror_mode": {
    "name": "ipython",
    "version": 3
   },
   "file_extension": ".py",
   "mimetype": "text/x-python",
   "name": "python",
   "nbconvert_exporter": "python",
   "pygments_lexer": "ipython3",
   "version": "3.7.6"
  }
 },
 "nbformat": 4,
 "nbformat_minor": 4
}
