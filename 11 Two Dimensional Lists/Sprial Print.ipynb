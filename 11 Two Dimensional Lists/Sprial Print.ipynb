{
 "cells": [
  {
   "cell_type": "code",
   "execution_count": null,
   "metadata": {},
   "outputs": [],
   "source": [
    "Spiral Print\n",
    "------------------------\n",
    "Given an N*M 2D array, print it in spiral form. That is, first you need to print the 1st row, then last column, then last row and then first column and so on.\n",
    "Print every element only once.\n",
    "Input format :\n",
    "Line 1 : N and M, No. of rows & No. of columns (separated by space) followed by N*M  elements in row wise fashion.\n",
    "Output format :\n",
    "Elements of matrix in spiral form in a single line and space separated\n",
    "Constraints :\n",
    "0 <= N <= 10^4\n",
    "0 <= M <= 10^4\n",
    "Sample Input 1:\n",
    " 4 4 1 2 3 4 5 6 7 8 9 10 11 12 13 14 15 16\n",
    "Sample Output 1:\n",
    "1 2 3 4 8 12 16 15 14 13 9 5 6 7 11 10 "
   ]
  },
  {
   "cell_type": "code",
   "execution_count": 3,
   "metadata": {},
   "outputs": [
    {
     "name": "stdout",
     "output_type": "stream",
     "text": [
      " 4 4 1 2 3 4 5 6 7 8 9 10 11 12 13 14 15 16\n",
      "1 2 3 4 8 12 16 15 14 13 9 5 6 7 11 10 "
     ]
    }
   ],
   "source": [
    "def spiralPrint(arr): \n",
    "    rows = len(arr) \n",
    "    cols = len(arr[0]) \n",
    "    startRow, startCol, endRow, endCol = 0, 0, rows-1, cols-1\n",
    "    while startRow<=endRow and startCol<=endCol:\n",
    "        # Print startRow \n",
    "        for j in range(startCol, endCol+1): \n",
    "            print(arr[startRow][j], end=' ')\n",
    "        startRow += 1\n",
    "        if startRow>endRow or startCol>endCol: \n",
    "            break \n",
    "        # Print endCol \n",
    "        for i in range(startRow, endRow+1): \n",
    "            print(arr[i][endCol], end=' ') \n",
    "        endCol -= 1 \n",
    "        if startRow>endRow or startCol>endCol: \n",
    "            break \n",
    "        for j in range(endCol, startCol-1, -1):\n",
    "            print(arr[endRow][j], end=' ')\n",
    "        endRow -= 1 \n",
    "        if startRow>endRow or startCol>endCol:\n",
    "            break \n",
    "        # Print startCol \n",
    "        for i in range(endRow, startRow-1, -1): \n",
    "            print(arr[i][startCol], end=' ') \n",
    "        startCol += 1 \n",
    "l=[int(i) for i in input().strip().split(' ')] \n",
    "m, n=l[0], l[1]\n",
    "arr = [ [ l[(j*n)+i+2] for i in range(n)] for j in range(m)] \n",
    "spiralPrint(arr)"
   ]
  }
 ],
 "metadata": {
  "kernelspec": {
   "display_name": "Python 3",
   "language": "python",
   "name": "python3"
  },
  "language_info": {
   "codemirror_mode": {
    "name": "ipython",
    "version": 3
   },
   "file_extension": ".py",
   "mimetype": "text/x-python",
   "name": "python",
   "nbconvert_exporter": "python",
   "pygments_lexer": "ipython3",
   "version": "3.7.6"
  }
 },
 "nbformat": 4,
 "nbformat_minor": 4
}
